{
 "cells": [
  {
   "cell_type": "code",
   "execution_count": 2,
   "metadata": {},
   "outputs": [],
   "source": [
    "import pandas as pd\n",
    "import numpy as np\n",
    "import altair as alt\n",
    "from sklearn.linear_model import LinearRegression"
   ]
  },
  {
   "cell_type": "code",
   "execution_count": 8,
   "metadata": {},
   "outputs": [],
   "source": [
    "# Define paths to the individual CSV files\n",
    "csv_files = {\n",
    "    '70b': 'meta-llama/Llama-2-70b-chat-hf-emissiondata.csv',\n",
    "    '13b': 'meta-llama/Llama-2-13b-chat-hf-emissiondata.csv',\n",
    "    '7b': 'meta-llama/Llama-2-7b-chat-hf-emissiondata.csv'\n",
    "}\n",
    "\n",
    "# Read the emissions data\n",
    "emissions_data = pd.read_csv('emissions.csv')"
   ]
  },
  {
   "cell_type": "code",
   "execution_count": 22,
   "metadata": {},
   "outputs": [],
   "source": [
    "# Initialize lists to store metadata\n",
    "parameters = []\n",
    "total_emissions = []\n",
    "cpu_energy = []\n",
    "gpu_energy = []\n",
    "ram_energy = []\n",
    "total_output_tokens = []"
   ]
  },
  {
   "cell_type": "code",
   "execution_count": 23,
   "metadata": {},
   "outputs": [],
   "source": [
    "# Read and extract metadata from each CSV file\n",
    "for model, file in csv_files.items():\n",
    "    data = pd.read_csv(file)\n",
    "    output_tokens = data.loc[data['Metric'] == 'Total Output Tokens', 'Value'].values[0]\n",
    "    if model == '70b':\n",
    "        parameters.append(70)\n",
    "    elif model == '13b':\n",
    "        parameters.append(13)\n",
    "    elif model == '7b':\n",
    "        parameters.append(7)\n",
    "    total_output_tokens.append(float(output_tokens))"
   ]
  },
  {
   "cell_type": "code",
   "execution_count": 24,
   "metadata": {},
   "outputs": [],
   "source": [
    "# Extract emissions data\n",
    "for model in csv_files.keys():\n",
    "    model_emissions = emissions_data[emissions_data['project_name'].str.contains(model)]\n",
    "    total_emissions.append(model_emissions['emissions'].values[0])\n",
    "    cpu_energy.append(model_emissions['cpu_energy'].values[0])\n",
    "    gpu_energy.append(model_emissions['gpu_energy'].values[0])\n",
    "    ram_energy.append(model_emissions['ram_energy'].values[0])"
   ]
  },
  {
   "cell_type": "code",
   "execution_count": 25,
   "metadata": {},
   "outputs": [],
   "source": [
    "# Prepare data for regression and visualization\n",
    "parameters = np.array(parameters)\n",
    "total_output_tokens = np.array(total_output_tokens)\n",
    "total_emissions = np.array(total_emissions)\n",
    "cpu_energy = np.array(cpu_energy)\n",
    "gpu_energy = np.array(gpu_energy)\n",
    "ram_energy = np.array(ram_energy)"
   ]
  },
  {
   "cell_type": "code",
   "execution_count": 26,
   "metadata": {},
   "outputs": [],
   "source": [
    "# Calculate emissions per 1,000,000 output tokens\n",
    "emissions_per_million_output_tokens = {\n",
    "    'Total Emissions': total_emissions / total_output_tokens * 1_000_000,\n",
    "    'CPU Energy': cpu_energy / total_output_tokens * 1_000_000,\n",
    "    'GPU Energy': gpu_energy / total_output_tokens * 1_000_000,\n",
    "    'RAM Energy': ram_energy / total_output_tokens * 1_000_000\n",
    "}"
   ]
  },
  {
   "cell_type": "code",
   "execution_count": 27,
   "metadata": {},
   "outputs": [],
   "source": [
    "# Perform regression analysis\n",
    "def perform_regression(x, y):\n",
    "    x = x.reshape(-1, 1)\n",
    "    model = LinearRegression()\n",
    "    model.fit(x, y)\n",
    "    predicted = model.predict(x)\n",
    "    return model, predicted"
   ]
  },
  {
   "cell_type": "code",
   "execution_count": 28,
   "metadata": {},
   "outputs": [
    {
     "name": "stdout",
     "output_type": "stream",
     "text": [
      "Total Emissions - Intercept: 4.450694916094701, Coefficient: 0.38489625638061276\n",
      "CPU Energy - Intercept: 1.2499486513028675, Coefficient: 0.08936725010484739\n",
      "GPU Energy - Intercept: 3.440219327790901, Coefficient: 0.34627411218242776\n",
      "RAM Energy - Intercept: 2.0031269914168046, Coefficient: 0.14319502743796003\n"
     ]
    }
   ],
   "source": [
    "models = {}\n",
    "predictions = {}\n",
    "for name, y in emissions_per_million_output_tokens.items():\n",
    "    model, predicted = perform_regression(parameters, y)\n",
    "    models[name] = model\n",
    "    predictions[name] = predicted\n",
    "    print(f\"{name} - Intercept: {model.intercept_}, Coefficient: {model.coef_[0]}\")"
   ]
  },
  {
   "cell_type": "code",
   "execution_count": 29,
   "metadata": {},
   "outputs": [],
   "source": [
    "# Prepare data for Altair visualization\n",
    "vis_data = pd.DataFrame({\n",
    "    'Parameters (billions)': parameters.flatten(),\n",
    "    'Total Emissions per Million Output Tokens': emissions_per_million_output_tokens['Total Emissions'],\n",
    "    'CPU Energy per Million Output Tokens': emissions_per_million_output_tokens['CPU Energy'],\n",
    "    'GPU Energy per Million Output Tokens': emissions_per_million_output_tokens['GPU Energy'],\n",
    "    'RAM Energy per Million Output Tokens': emissions_per_million_output_tokens['RAM Energy'],\n",
    "    'Total Emissions Predicted': predictions['Total Emissions'],\n",
    "    'CPU Energy Predicted': predictions['CPU Energy'],\n",
    "    'GPU Energy Predicted': predictions['GPU Energy'],\n",
    "    'RAM Energy Predicted': predictions['RAM Energy']\n",
    "})"
   ]
  },
  {
   "cell_type": "code",
   "execution_count": 44,
   "metadata": {},
   "outputs": [
    {
     "data": {
      "text/html": [
       "\n",
       "<style>\n",
       "  #altair-viz-ee442d25b66f426b938a2450fcd0a1eb.vega-embed {\n",
       "    width: 100%;\n",
       "    display: flex;\n",
       "  }\n",
       "\n",
       "  #altair-viz-ee442d25b66f426b938a2450fcd0a1eb.vega-embed details,\n",
       "  #altair-viz-ee442d25b66f426b938a2450fcd0a1eb.vega-embed details summary {\n",
       "    position: relative;\n",
       "  }\n",
       "</style>\n",
       "<div id=\"altair-viz-ee442d25b66f426b938a2450fcd0a1eb\"></div>\n",
       "<script type=\"text/javascript\">\n",
       "  var VEGA_DEBUG = (typeof VEGA_DEBUG == \"undefined\") ? {} : VEGA_DEBUG;\n",
       "  (function(spec, embedOpt){\n",
       "    let outputDiv = document.currentScript.previousElementSibling;\n",
       "    if (outputDiv.id !== \"altair-viz-ee442d25b66f426b938a2450fcd0a1eb\") {\n",
       "      outputDiv = document.getElementById(\"altair-viz-ee442d25b66f426b938a2450fcd0a1eb\");\n",
       "    }\n",
       "    const paths = {\n",
       "      \"vega\": \"https://cdn.jsdelivr.net/npm/vega@5?noext\",\n",
       "      \"vega-lib\": \"https://cdn.jsdelivr.net/npm/vega-lib?noext\",\n",
       "      \"vega-lite\": \"https://cdn.jsdelivr.net/npm/vega-lite@5.17.0?noext\",\n",
       "      \"vega-embed\": \"https://cdn.jsdelivr.net/npm/vega-embed@6?noext\",\n",
       "    };\n",
       "\n",
       "    function maybeLoadScript(lib, version) {\n",
       "      var key = `${lib.replace(\"-\", \"\")}_version`;\n",
       "      return (VEGA_DEBUG[key] == version) ?\n",
       "        Promise.resolve(paths[lib]) :\n",
       "        new Promise(function(resolve, reject) {\n",
       "          var s = document.createElement('script');\n",
       "          document.getElementsByTagName(\"head\")[0].appendChild(s);\n",
       "          s.async = true;\n",
       "          s.onload = () => {\n",
       "            VEGA_DEBUG[key] = version;\n",
       "            return resolve(paths[lib]);\n",
       "          };\n",
       "          s.onerror = () => reject(`Error loading script: ${paths[lib]}`);\n",
       "          s.src = paths[lib];\n",
       "        });\n",
       "    }\n",
       "\n",
       "    function showError(err) {\n",
       "      outputDiv.innerHTML = `<div class=\"error\" style=\"color:red;\">${err}</div>`;\n",
       "      throw err;\n",
       "    }\n",
       "\n",
       "    function displayChart(vegaEmbed) {\n",
       "      vegaEmbed(outputDiv, spec, embedOpt)\n",
       "        .catch(err => showError(`Javascript Error: ${err.message}<br>This usually means there's a typo in your chart specification. See the javascript console for the full traceback.`));\n",
       "    }\n",
       "\n",
       "    if(typeof define === \"function\" && define.amd) {\n",
       "      requirejs.config({paths});\n",
       "      require([\"vega-embed\"], displayChart, err => showError(`Error loading script: ${err.message}`));\n",
       "    } else {\n",
       "      maybeLoadScript(\"vega\", \"5\")\n",
       "        .then(() => maybeLoadScript(\"vega-lite\", \"5.17.0\"))\n",
       "        .then(() => maybeLoadScript(\"vega-embed\", \"6\"))\n",
       "        .catch(showError)\n",
       "        .then(() => displayChart(vegaEmbed));\n",
       "    }\n",
       "  })({\"config\": {\"view\": {\"continuousWidth\": 300, \"continuousHeight\": 300}}, \"vconcat\": [{\"hconcat\": [{\"layer\": [{\"mark\": {\"type\": \"circle\", \"color\": \"blue\", \"size\": 100}, \"encoding\": {\"tooltip\": [{\"field\": \"Parameters (billions)\", \"type\": \"quantitative\"}, {\"field\": \"Total Emissions per Million Output Tokens\", \"type\": \"quantitative\"}], \"x\": {\"field\": \"Parameters (billions)\", \"type\": \"quantitative\"}, \"y\": {\"field\": \"Total Emissions per Million Output Tokens\", \"type\": \"quantitative\"}}, \"title\": \"Actual Total Emissions per Million Output Tokens\"}, {\"mark\": {\"type\": \"line\", \"color\": \"blue\"}, \"encoding\": {\"tooltip\": [{\"field\": \"Parameters (billions)\", \"type\": \"quantitative\"}, {\"field\": \"Total Emissions Predicted\", \"type\": \"quantitative\"}], \"x\": {\"field\": \"Parameters (billions)\", \"type\": \"quantitative\"}, \"y\": {\"field\": \"Total Emissions Predicted\", \"type\": \"quantitative\"}}}], \"height\": 350, \"width\": 600}, {\"layer\": [{\"mark\": {\"type\": \"circle\", \"color\": \"green\", \"size\": 100}, \"encoding\": {\"tooltip\": [{\"field\": \"Parameters (billions)\", \"type\": \"quantitative\"}, {\"field\": \"CPU Energy per Million Output Tokens\", \"type\": \"quantitative\"}], \"x\": {\"field\": \"Parameters (billions)\", \"type\": \"quantitative\"}, \"y\": {\"field\": \"CPU Energy per Million Output Tokens\", \"type\": \"quantitative\"}}, \"title\": \"Actual CPU Energy per Million Output Tokens\"}, {\"mark\": {\"type\": \"line\", \"color\": \"green\"}, \"encoding\": {\"tooltip\": [{\"field\": \"Parameters (billions)\", \"type\": \"quantitative\"}, {\"field\": \"CPU Energy Predicted\", \"type\": \"quantitative\"}], \"x\": {\"field\": \"Parameters (billions)\", \"type\": \"quantitative\"}, \"y\": {\"field\": \"CPU Energy Predicted\", \"type\": \"quantitative\"}}}], \"height\": 350, \"width\": 600}]}, {\"hconcat\": [{\"layer\": [{\"mark\": {\"type\": \"circle\", \"color\": \"red\", \"size\": 100}, \"encoding\": {\"tooltip\": [{\"field\": \"Parameters (billions)\", \"type\": \"quantitative\"}, {\"field\": \"GPU Energy per Million Output Tokens\", \"type\": \"quantitative\"}], \"x\": {\"field\": \"Parameters (billions)\", \"type\": \"quantitative\"}, \"y\": {\"field\": \"GPU Energy per Million Output Tokens\", \"type\": \"quantitative\"}}, \"title\": \"Actual GPU Energy per Million Output Tokens\"}, {\"mark\": {\"type\": \"line\", \"color\": \"red\"}, \"encoding\": {\"tooltip\": [{\"field\": \"Parameters (billions)\", \"type\": \"quantitative\"}, {\"field\": \"GPU Energy Predicted\", \"type\": \"quantitative\"}], \"x\": {\"field\": \"Parameters (billions)\", \"type\": \"quantitative\"}, \"y\": {\"field\": \"GPU Energy Predicted\", \"type\": \"quantitative\"}}}], \"height\": 350, \"width\": 600}, {\"layer\": [{\"mark\": {\"type\": \"circle\", \"color\": \"purple\", \"size\": 100}, \"encoding\": {\"tooltip\": [{\"field\": \"Parameters (billions)\", \"type\": \"quantitative\"}, {\"field\": \"RAM Energy per Million Output Tokens\", \"type\": \"quantitative\"}], \"x\": {\"field\": \"Parameters (billions)\", \"type\": \"quantitative\"}, \"y\": {\"field\": \"RAM Energy per Million Output Tokens\", \"type\": \"quantitative\"}}, \"title\": \"Actual RAM Energy per Million Output Tokens\"}, {\"mark\": {\"type\": \"line\", \"color\": \"purple\"}, \"encoding\": {\"tooltip\": [{\"field\": \"Parameters (billions)\", \"type\": \"quantitative\"}, {\"field\": \"RAM Energy Predicted\", \"type\": \"quantitative\"}], \"x\": {\"field\": \"Parameters (billions)\", \"type\": \"quantitative\"}, \"y\": {\"field\": \"RAM Energy Predicted\", \"type\": \"quantitative\"}}}], \"height\": 350, \"width\": 600}]}], \"data\": {\"name\": \"data-4675f0e55cd043d09e2523b0b948adeb\"}, \"resolve\": {\"scale\": {\"y\": \"independent\"}}, \"$schema\": \"https://vega.github.io/schema/vega-lite/v5.17.0.json\", \"datasets\": {\"data-4675f0e55cd043d09e2523b0b948adeb\": [{\"Parameters (billions)\": 70, \"Total Emissions per Million Output Tokens\": 31.394517277218142, \"CPU Energy per Million Output Tokens\": 7.505288132159456, \"GPU Energy per Million Output Tokens\": 27.68199876785705, \"RAM Energy per Million Output Tokens\": 12.02618617658678, \"Total Emissions Predicted\": 31.393432862737594, \"CPU Energy Predicted\": 7.505656158642185, \"GPU Energy Predicted\": 27.679407180560844, \"RAM Energy Predicted\": 12.026778912074008}, {\"Parameters (billions)\": 13, \"Total Emissions per Million Output Tokens\": 9.442959896996937, \"CPU Energy per Million Output Tokens\": 2.4155871807345397, \"GPU Energy per Million Output Tokens\": 7.914571119552293, \"RAM Energy per Million Output Tokens\": 3.87088607072618, \"Total Emissions Predicted\": 9.454346249042667, \"CPU Energy Predicted\": 2.4117229026658835, \"GPU Energy Predicted\": 7.941782786162462, \"RAM Energy Predicted\": 3.864662348110285}, {\"Parameters (billions)\": 7, \"Total Emissions per Million Output Tokens\": 7.155270648324171, \"CPU Energy per Million Output Tokens\": 1.872023150450872, \"GPU Energy per Million Output Tokens\": 5.888758192381859, \"RAM Energy per Million Output Tokens\": 2.99986119635386, \"Total Emissions Predicted\": 7.14496871075899, \"CPU Energy Predicted\": 1.8755194020367991, \"GPU Energy Predicted\": 5.864138113067895, \"RAM Energy Predicted\": 3.0054921834825246}]}}, {\"mode\": \"vega-lite\"});\n",
       "</script>"
      ],
      "text/plain": [
       "alt.VConcatChart(...)"
      ]
     },
     "metadata": {},
     "output_type": "display_data"
    }
   ],
   "source": [
    "# Define chart width and height\n",
    "chart_width = 600\n",
    "chart_height = 350\n",
    "\n",
    "# Create scatter and line plots for each emission type per million output tokens\n",
    "charts = []\n",
    "for emission_type, color in zip(['Total Emissions', 'CPU Energy', 'GPU Energy', 'RAM Energy'],\n",
    "                                ['blue', 'green', 'red', 'purple']):\n",
    "    scatter = alt.Chart(vis_data).mark_circle(size=100, color=color).encode(\n",
    "        x='Parameters (billions)',\n",
    "        y=f'{emission_type} per Million Output Tokens',\n",
    "        tooltip=['Parameters (billions)', f'{emission_type} per Million Output Tokens']\n",
    "    ).properties(\n",
    "        title=f'Actual {emission_type} per Million Output Tokens',\n",
    "        width=chart_width,\n",
    "        height=chart_height\n",
    "    )\n",
    "    \n",
    "    # Create line plots for predicted emissions\n",
    "    line = alt.Chart(vis_data).mark_line(color=color).encode(\n",
    "        x='Parameters (billions)',\n",
    "        y=f'{emission_type} Predicted',\n",
    "        tooltip=['Parameters (billions)', f'{emission_type} Predicted']\n",
    "    ).properties(\n",
    "        width=chart_width,\n",
    "        height=chart_height\n",
    "    )\n",
    "    \n",
    "    charts.append(scatter + line)\n",
    "\n",
    "# Arrange the charts in a 2x2 grid\n",
    "grid_chart = alt.vconcat(\n",
    "    alt.hconcat(charts[0], charts[1]),\n",
    "    alt.hconcat(charts[2], charts[3])\n",
    ").resolve_scale(\n",
    "    y='independent'\n",
    ")\n",
    "\n",
    "grid_chart.show()"
   ]
  },
  {
   "cell_type": "code",
   "execution_count": 49,
   "metadata": {},
   "outputs": [
    {
     "data": {
      "text/html": [
       "\n",
       "<style>\n",
       "  #altair-viz-6bf3b7d82db3411b9f7a88a021e88601.vega-embed {\n",
       "    width: 100%;\n",
       "    display: flex;\n",
       "  }\n",
       "\n",
       "  #altair-viz-6bf3b7d82db3411b9f7a88a021e88601.vega-embed details,\n",
       "  #altair-viz-6bf3b7d82db3411b9f7a88a021e88601.vega-embed details summary {\n",
       "    position: relative;\n",
       "  }\n",
       "</style>\n",
       "<div id=\"altair-viz-6bf3b7d82db3411b9f7a88a021e88601\"></div>\n",
       "<script type=\"text/javascript\">\n",
       "  var VEGA_DEBUG = (typeof VEGA_DEBUG == \"undefined\") ? {} : VEGA_DEBUG;\n",
       "  (function(spec, embedOpt){\n",
       "    let outputDiv = document.currentScript.previousElementSibling;\n",
       "    if (outputDiv.id !== \"altair-viz-6bf3b7d82db3411b9f7a88a021e88601\") {\n",
       "      outputDiv = document.getElementById(\"altair-viz-6bf3b7d82db3411b9f7a88a021e88601\");\n",
       "    }\n",
       "    const paths = {\n",
       "      \"vega\": \"https://cdn.jsdelivr.net/npm/vega@5?noext\",\n",
       "      \"vega-lib\": \"https://cdn.jsdelivr.net/npm/vega-lib?noext\",\n",
       "      \"vega-lite\": \"https://cdn.jsdelivr.net/npm/vega-lite@5.17.0?noext\",\n",
       "      \"vega-embed\": \"https://cdn.jsdelivr.net/npm/vega-embed@6?noext\",\n",
       "    };\n",
       "\n",
       "    function maybeLoadScript(lib, version) {\n",
       "      var key = `${lib.replace(\"-\", \"\")}_version`;\n",
       "      return (VEGA_DEBUG[key] == version) ?\n",
       "        Promise.resolve(paths[lib]) :\n",
       "        new Promise(function(resolve, reject) {\n",
       "          var s = document.createElement('script');\n",
       "          document.getElementsByTagName(\"head\")[0].appendChild(s);\n",
       "          s.async = true;\n",
       "          s.onload = () => {\n",
       "            VEGA_DEBUG[key] = version;\n",
       "            return resolve(paths[lib]);\n",
       "          };\n",
       "          s.onerror = () => reject(`Error loading script: ${paths[lib]}`);\n",
       "          s.src = paths[lib];\n",
       "        });\n",
       "    }\n",
       "\n",
       "    function showError(err) {\n",
       "      outputDiv.innerHTML = `<div class=\"error\" style=\"color:red;\">${err}</div>`;\n",
       "      throw err;\n",
       "    }\n",
       "\n",
       "    function displayChart(vegaEmbed) {\n",
       "      vegaEmbed(outputDiv, spec, embedOpt)\n",
       "        .catch(err => showError(`Javascript Error: ${err.message}<br>This usually means there's a typo in your chart specification. See the javascript console for the full traceback.`));\n",
       "    }\n",
       "\n",
       "    if(typeof define === \"function\" && define.amd) {\n",
       "      requirejs.config({paths});\n",
       "      require([\"vega-embed\"], displayChart, err => showError(`Error loading script: ${err.message}`));\n",
       "    } else {\n",
       "      maybeLoadScript(\"vega\", \"5\")\n",
       "        .then(() => maybeLoadScript(\"vega-lite\", \"5.17.0\"))\n",
       "        .then(() => maybeLoadScript(\"vega-embed\", \"6\"))\n",
       "        .catch(showError)\n",
       "        .then(() => displayChart(vegaEmbed));\n",
       "    }\n",
       "  })({\"config\": {\"view\": {\"continuousWidth\": 300, \"continuousHeight\": 300}}, \"layer\": [{\"layer\": [{\"mark\": {\"type\": \"circle\", \"color\": \"blue\", \"size\": 100}, \"encoding\": {\"tooltip\": [{\"field\": \"Parameters (billions)\", \"type\": \"quantitative\"}, {\"field\": \"Total Emissions per Million Output Tokens\", \"type\": \"quantitative\"}], \"x\": {\"field\": \"Parameters (billions)\", \"type\": \"quantitative\"}, \"y\": {\"field\": \"Total Emissions per Million Output Tokens\", \"type\": \"quantitative\"}}, \"title\": \"Actual Total Emissions per Million Output Tokens\"}, {\"mark\": {\"type\": \"line\", \"color\": \"blue\"}, \"encoding\": {\"tooltip\": [{\"field\": \"Parameters (billions)\", \"type\": \"quantitative\"}, {\"field\": \"Total Emissions Predicted\", \"type\": \"quantitative\"}], \"x\": {\"field\": \"Parameters (billions)\", \"type\": \"quantitative\"}, \"y\": {\"field\": \"Total Emissions Predicted\", \"type\": \"quantitative\"}}}]}, {\"layer\": [{\"mark\": {\"type\": \"circle\", \"color\": \"green\", \"size\": 100}, \"encoding\": {\"tooltip\": [{\"field\": \"Parameters (billions)\", \"type\": \"quantitative\"}, {\"field\": \"CPU Energy per Million Output Tokens\", \"type\": \"quantitative\"}], \"x\": {\"field\": \"Parameters (billions)\", \"type\": \"quantitative\"}, \"y\": {\"field\": \"CPU Energy per Million Output Tokens\", \"type\": \"quantitative\"}}, \"title\": \"Actual CPU Energy per Million Output Tokens\"}, {\"mark\": {\"type\": \"line\", \"color\": \"green\"}, \"encoding\": {\"tooltip\": [{\"field\": \"Parameters (billions)\", \"type\": \"quantitative\"}, {\"field\": \"CPU Energy Predicted\", \"type\": \"quantitative\"}], \"x\": {\"field\": \"Parameters (billions)\", \"type\": \"quantitative\"}, \"y\": {\"field\": \"CPU Energy Predicted\", \"type\": \"quantitative\"}}}]}, {\"layer\": [{\"mark\": {\"type\": \"circle\", \"color\": \"red\", \"size\": 100}, \"encoding\": {\"tooltip\": [{\"field\": \"Parameters (billions)\", \"type\": \"quantitative\"}, {\"field\": \"GPU Energy per Million Output Tokens\", \"type\": \"quantitative\"}], \"x\": {\"field\": \"Parameters (billions)\", \"type\": \"quantitative\"}, \"y\": {\"field\": \"GPU Energy per Million Output Tokens\", \"type\": \"quantitative\"}}, \"title\": \"Actual GPU Energy per Million Output Tokens\"}, {\"mark\": {\"type\": \"line\", \"color\": \"red\"}, \"encoding\": {\"tooltip\": [{\"field\": \"Parameters (billions)\", \"type\": \"quantitative\"}, {\"field\": \"GPU Energy Predicted\", \"type\": \"quantitative\"}], \"x\": {\"field\": \"Parameters (billions)\", \"type\": \"quantitative\"}, \"y\": {\"field\": \"GPU Energy Predicted\", \"type\": \"quantitative\"}}}]}, {\"layer\": [{\"mark\": {\"type\": \"circle\", \"color\": \"purple\", \"size\": 100}, \"encoding\": {\"tooltip\": [{\"field\": \"Parameters (billions)\", \"type\": \"quantitative\"}, {\"field\": \"RAM Energy per Million Output Tokens\", \"type\": \"quantitative\"}], \"x\": {\"field\": \"Parameters (billions)\", \"type\": \"quantitative\"}, \"y\": {\"field\": \"RAM Energy per Million Output Tokens\", \"type\": \"quantitative\"}}, \"title\": \"Actual RAM Energy per Million Output Tokens\"}, {\"mark\": {\"type\": \"line\", \"color\": \"purple\"}, \"encoding\": {\"tooltip\": [{\"field\": \"Parameters (billions)\", \"type\": \"quantitative\"}, {\"field\": \"RAM Energy Predicted\", \"type\": \"quantitative\"}], \"x\": {\"field\": \"Parameters (billions)\", \"type\": \"quantitative\"}, \"y\": {\"field\": \"RAM Energy Predicted\", \"type\": \"quantitative\"}}}]}], \"data\": {\"name\": \"data-4675f0e55cd043d09e2523b0b948adeb\"}, \"height\": 400, \"resolve\": {\"scale\": {\"y\": \"independent\"}}, \"title\": \"Emissions per Million Output Tokens by Type vs Number of Parameters\", \"width\": 600, \"$schema\": \"https://vega.github.io/schema/vega-lite/v5.17.0.json\", \"datasets\": {\"data-4675f0e55cd043d09e2523b0b948adeb\": [{\"Parameters (billions)\": 70, \"Total Emissions per Million Output Tokens\": 31.394517277218142, \"CPU Energy per Million Output Tokens\": 7.505288132159456, \"GPU Energy per Million Output Tokens\": 27.68199876785705, \"RAM Energy per Million Output Tokens\": 12.02618617658678, \"Total Emissions Predicted\": 31.393432862737594, \"CPU Energy Predicted\": 7.505656158642185, \"GPU Energy Predicted\": 27.679407180560844, \"RAM Energy Predicted\": 12.026778912074008}, {\"Parameters (billions)\": 13, \"Total Emissions per Million Output Tokens\": 9.442959896996937, \"CPU Energy per Million Output Tokens\": 2.4155871807345397, \"GPU Energy per Million Output Tokens\": 7.914571119552293, \"RAM Energy per Million Output Tokens\": 3.87088607072618, \"Total Emissions Predicted\": 9.454346249042667, \"CPU Energy Predicted\": 2.4117229026658835, \"GPU Energy Predicted\": 7.941782786162462, \"RAM Energy Predicted\": 3.864662348110285}, {\"Parameters (billions)\": 7, \"Total Emissions per Million Output Tokens\": 7.155270648324171, \"CPU Energy per Million Output Tokens\": 1.872023150450872, \"GPU Energy per Million Output Tokens\": 5.888758192381859, \"RAM Energy per Million Output Tokens\": 2.99986119635386, \"Total Emissions Predicted\": 7.14496871075899, \"CPU Energy Predicted\": 1.8755194020367991, \"GPU Energy Predicted\": 5.864138113067895, \"RAM Energy Predicted\": 3.0054921834825246}]}}, {\"mode\": \"vega-lite\"});\n",
       "</script>"
      ],
      "text/plain": [
       "alt.LayerChart(...)"
      ]
     },
     "metadata": {},
     "output_type": "display_data"
    }
   ],
   "source": [
    "# Create a combined chart with overlays for all emission types\n",
    "combined_chart = alt.layer(*charts).resolve_scale(\n",
    "    y='independent'\n",
    ").properties(\n",
    "    title='Emissions per Million Output Tokens by Type vs Number of Parameters',\n",
    "    width=600,  # Adjusted width for combined chart\n",
    "    height=400  # Adjusted height for combined chart\n",
    ")\n",
    "\n",
    "combined_chart.show()"
   ]
  },
  {
   "cell_type": "code",
   "execution_count": null,
   "metadata": {},
   "outputs": [],
   "source": []
  }
 ],
 "metadata": {
  "kernelspec": {
   "display_name": "pytorch",
   "language": "python",
   "name": "python3"
  },
  "language_info": {
   "codemirror_mode": {
    "name": "ipython",
    "version": 3
   },
   "file_extension": ".py",
   "mimetype": "text/x-python",
   "name": "python",
   "nbconvert_exporter": "python",
   "pygments_lexer": "ipython3",
   "version": "3.10.14"
  }
 },
 "nbformat": 4,
 "nbformat_minor": 2
}
