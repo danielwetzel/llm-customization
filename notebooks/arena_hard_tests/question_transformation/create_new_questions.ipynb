{
 "cells": [
  {
   "cell_type": "code",
   "execution_count": 1,
   "metadata": {},
   "outputs": [],
   "source": [
    "import json"
   ]
  },
  {
   "cell_type": "code",
   "execution_count": 4,
   "metadata": {},
   "outputs": [],
   "source": [
    "# Load the JSONL file\n",
    "input_file_path = 'mtbench_question.jsonl'\n",
    "output_file_path = 'transformed_questions.jsonl'"
   ]
  },
  {
   "cell_type": "code",
   "execution_count": 5,
   "metadata": {},
   "outputs": [],
   "source": [
    "# Read the input JSONL file\n",
    "with open(input_file_path, 'r') as file:\n",
    "    lines = file.readlines()"
   ]
  },
  {
   "cell_type": "code",
   "execution_count": 6,
   "metadata": {},
   "outputs": [
    {
     "name": "stdout",
     "output_type": "stream",
     "text": [
      "{'question_id': 'mt_bench_question_81', 'category': 'writing', 'cluster': 'mt_bench', 'turns': [{'content': 'Compose an engaging travel blog post about a recent trip to Hawaii, highlighting cultural experiences and must-see attractions.'}]}\n"
     ]
    }
   ],
   "source": [
    "transformed_questions = []\n",
    "\n",
    "# Process each line in the JSONL file\n",
    "for line in lines:\n",
    "    question = json.loads(line)\n",
    "    question_id = question['question_id']\n",
    "    category = question['category']\n",
    "    turns = question['turns']\n",
    "\n",
    "    # Create two transformed entries\n",
    "    for i, turn in enumerate(turns):\n",
    "        new_question_id = f\"{i+1}_{question_id}\" if i == 1 else question_id\n",
    "        transformed_question = {\n",
    "            \"question_id\": f\"mt_bench_question_{new_question_id}\",\n",
    "            \"category\": category,\n",
    "            \"cluster\": \"mt_bench\",\n",
    "            \"turns\": [{\"content\": turn}]\n",
    "        }\n",
    "        transformed_questions.append(transformed_question)\n",
    "\n",
    "print(transformed_questions[0])"
   ]
  },
  {
   "cell_type": "code",
   "execution_count": 7,
   "metadata": {},
   "outputs": [],
   "source": [
    "# Write the transformed questions to the output JSONL file\n",
    "with open(output_file_path, 'w') as file:\n",
    "    for question in transformed_questions:\n",
    "        file.write(json.dumps(question) + '\\n')"
   ]
  },
  {
   "cell_type": "code",
   "execution_count": null,
   "metadata": {},
   "outputs": [],
   "source": []
  }
 ],
 "metadata": {
  "kernelspec": {
   "display_name": "llm-env",
   "language": "python",
   "name": "python3"
  },
  "language_info": {
   "codemirror_mode": {
    "name": "ipython",
    "version": 3
   },
   "file_extension": ".py",
   "mimetype": "text/x-python",
   "name": "python",
   "nbconvert_exporter": "python",
   "pygments_lexer": "ipython3",
   "version": "3.11.9"
  }
 },
 "nbformat": 4,
 "nbformat_minor": 2
}
