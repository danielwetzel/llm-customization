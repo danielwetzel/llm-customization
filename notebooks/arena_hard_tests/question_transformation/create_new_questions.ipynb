{
 "cells": [
  {
   "cell_type": "code",
   "execution_count": 9,
   "metadata": {},
   "outputs": [],
   "source": [
    "import json\n",
    "import math"
   ]
  },
  {
   "cell_type": "code",
   "execution_count": 4,
   "metadata": {},
   "outputs": [],
   "source": [
    "# Load the JSONL file\n",
    "input_file_path = 'mtbench_question.jsonl'\n",
    "output_file_path = 'transformed_questions.jsonl'"
   ]
  },
  {
   "cell_type": "code",
   "execution_count": 5,
   "metadata": {},
   "outputs": [],
   "source": [
    "# Read the input JSONL file\n",
    "with open(input_file_path, 'r') as file:\n",
    "    lines = file.readlines()"
   ]
  },
  {
   "cell_type": "code",
   "execution_count": 6,
   "metadata": {},
   "outputs": [
    {
     "name": "stdout",
     "output_type": "stream",
     "text": [
      "{'question_id': 'mt_bench_question_81', 'category': 'writing', 'cluster': 'mt_bench', 'turns': [{'content': 'Compose an engaging travel blog post about a recent trip to Hawaii, highlighting cultural experiences and must-see attractions.'}]}\n"
     ]
    }
   ],
   "source": [
    "transformed_questions = []\n",
    "\n",
    "# Process each line in the JSONL file\n",
    "for line in lines:\n",
    "    question = json.loads(line)\n",
    "    question_id = question['question_id']\n",
    "    category = question['category']\n",
    "    turns = question['turns']\n",
    "\n",
    "    # Create two transformed entries\n",
    "    for i, turn in enumerate(turns):\n",
    "        new_question_id = f\"{i+1}_{question_id}\" if i == 1 else question_id\n",
    "        transformed_question = {\n",
    "            \"question_id\": f\"mt_bench_question_{new_question_id}\",\n",
    "            \"category\": category,\n",
    "            \"cluster\": \"mt_bench\",\n",
    "            \"turns\": [{\"content\": turn}]\n",
    "        }\n",
    "        transformed_questions.append(transformed_question)\n",
    "\n",
    "print(transformed_questions[0])"
   ]
  },
  {
   "cell_type": "code",
   "execution_count": 7,
   "metadata": {},
   "outputs": [],
   "source": [
    "# Write the transformed questions to the output JSONL file\n",
    "with open(output_file_path, 'w') as file:\n",
    "    for question in transformed_questions:\n",
    "        file.write(json.dumps(question) + '\\n')"
   ]
  },
  {
   "cell_type": "markdown",
   "metadata": {},
   "source": [
    "# Transform the Questions with Token Count"
   ]
  },
  {
   "cell_type": "code",
   "execution_count": 10,
   "metadata": {},
   "outputs": [],
   "source": [
    "# Load the JSONL files\n",
    "questions_file_path = 'question.jsonl'\n",
    "answers_file_path = 'gpt-4o.jsonl'\n",
    "output_file_path = 'transformed_questions_with_tokens.jsonl'"
   ]
  },
  {
   "cell_type": "code",
   "execution_count": 11,
   "metadata": {},
   "outputs": [],
   "source": [
    "# Read the questions JSONL file\n",
    "with open(questions_file_path, 'r') as file:\n",
    "    questions_lines = file.readlines()\n",
    "\n",
    "# Read the answers JSONL file\n",
    "with open(answers_file_path, 'r') as file:\n",
    "    answers_lines = file.readlines()"
   ]
  },
  {
   "cell_type": "code",
   "execution_count": 15,
   "metadata": {},
   "outputs": [
    {
     "name": "stdout",
     "output_type": "stream",
     "text": [
      "{'mt_bench_question_100': 118, 'mt_bench_question_101': 32, 'mt_bench_question_102': 57, 'mt_bench_question_103': 237, 'mt_bench_question_104': 52, 'mt_bench_question_105': 438, 'mt_bench_question_106': 194, 'mt_bench_question_107': 7, 'mt_bench_question_108': 42, 'mt_bench_question_109': 175, 'mt_bench_question_110': 59, 'mt_bench_question_111': 402, 'mt_bench_question_112': 196, 'mt_bench_question_113': 320, 'mt_bench_question_114': 603, 'mt_bench_question_115': 391, 'mt_bench_question_116': 442, 'mt_bench_question_117': 371, 'mt_bench_question_118': 301, 'mt_bench_question_119': 236, 'mt_bench_question_120': 268, 'mt_bench_question_121': 444, 'mt_bench_question_122': 427, 'mt_bench_question_123': 400, 'mt_bench_question_124': 501, 'mt_bench_question_125': 721, 'mt_bench_question_126': 539, 'mt_bench_question_127': 416, 'mt_bench_question_128': 628, 'mt_bench_question_129': 555, 'mt_bench_question_130': 352, 'mt_bench_question_131': 13, 'mt_bench_question_132': 15, 'mt_bench_question_133': 75, 'mt_bench_question_134': 31, 'mt_bench_question_135': 93, 'mt_bench_question_136': 14, 'mt_bench_question_137': 74, 'mt_bench_question_138': 35, 'mt_bench_question_139': 118, 'mt_bench_question_140': 125, 'mt_bench_question_141': 456, 'mt_bench_question_142': 624, 'mt_bench_question_143': 579, 'mt_bench_question_144': 240, 'mt_bench_question_145': 520, 'mt_bench_question_146': 582, 'mt_bench_question_147': 569, 'mt_bench_question_148': 644, 'mt_bench_question_149': 727, 'mt_bench_question_150': 503, 'mt_bench_question_151': 789, 'mt_bench_question_152': 628, 'mt_bench_question_153': 870, 'mt_bench_question_154': 764, 'mt_bench_question_155': 575, 'mt_bench_question_156': 463, 'mt_bench_question_157': 411, 'mt_bench_question_158': 434, 'mt_bench_question_159': 493, 'mt_bench_question_160': 613, 'mt_bench_question_2_100': 785, 'mt_bench_question_2_101': 42, 'mt_bench_question_2_102': 75, 'mt_bench_question_2_103': 44, 'mt_bench_question_2_104': 65, 'mt_bench_question_2_105': 44, 'mt_bench_question_2_106': 41, 'mt_bench_question_2_107': 484, 'mt_bench_question_2_108': 19, 'mt_bench_question_2_109': 328, 'mt_bench_question_2_110': 519, 'mt_bench_question_2_111': 381, 'mt_bench_question_2_112': 269, 'mt_bench_question_2_113': 405, 'mt_bench_question_2_114': 344, 'mt_bench_question_2_115': 147, 'mt_bench_question_2_116': 109, 'mt_bench_question_2_117': 221, 'mt_bench_question_2_118': 205, 'mt_bench_question_2_119': 308, 'mt_bench_question_2_120': 51, 'mt_bench_question_2_121': 79, 'mt_bench_question_2_122': 424, 'mt_bench_question_2_123': 504, 'mt_bench_question_2_124': 829, 'mt_bench_question_2_125': 490, 'mt_bench_question_2_126': 362, 'mt_bench_question_2_127': 634, 'mt_bench_question_2_128': 636, 'mt_bench_question_2_129': 61, 'mt_bench_question_2_130': 439, 'mt_bench_question_2_131': 35, 'mt_bench_question_2_132': 34, 'mt_bench_question_2_133': 60, 'mt_bench_question_2_134': 175, 'mt_bench_question_2_135': 262, 'mt_bench_question_2_136': 33, 'mt_bench_question_2_137': 14, 'mt_bench_question_2_138': 21, 'mt_bench_question_2_139': 25, 'mt_bench_question_2_140': 41, 'mt_bench_question_2_141': 232, 'mt_bench_question_2_142': 695, 'mt_bench_question_2_143': 790, 'mt_bench_question_2_144': 35, 'mt_bench_question_2_145': 31, 'mt_bench_question_2_146': 218, 'mt_bench_question_2_147': 74, 'mt_bench_question_2_148': 543, 'mt_bench_question_2_149': 666, 'mt_bench_question_2_150': 699, 'mt_bench_question_2_151': 236, 'mt_bench_question_2_152': 299, 'mt_bench_question_2_153': 606, 'mt_bench_question_2_154': 477, 'mt_bench_question_2_155': 39, 'mt_bench_question_2_156': 998, 'mt_bench_question_2_157': 626, 'mt_bench_question_2_158': 663, 'mt_bench_question_2_159': 844, 'mt_bench_question_2_160': 250, 'mt_bench_question_2_81': 43, 'mt_bench_question_2_82': 58, 'mt_bench_question_2_83': 43, 'mt_bench_question_2_84': 134, 'mt_bench_question_2_85': 17, 'mt_bench_question_2_86': 246, 'mt_bench_question_2_87': 7, 'mt_bench_question_2_88': 30, 'mt_bench_question_2_89': 21, 'mt_bench_question_2_90': 22, 'mt_bench_question_2_91': 567, 'mt_bench_question_2_92': 47, 'mt_bench_question_2_93': 407, 'mt_bench_question_2_94': 325, 'mt_bench_question_2_95': 132, 'mt_bench_question_2_96': 69, 'mt_bench_question_2_97': 775, 'mt_bench_question_2_98': 256, 'mt_bench_question_2_99': 573, 'mt_bench_question_81': 801, 'mt_bench_question_82': 145, 'mt_bench_question_83': 419, 'mt_bench_question_84': 283, 'mt_bench_question_85': 133, 'mt_bench_question_86': 211, 'mt_bench_question_87': 807, 'mt_bench_question_88': 139, 'mt_bench_question_89': 85, 'mt_bench_question_90': 83, 'mt_bench_question_91': 227, 'mt_bench_question_92': 125, 'mt_bench_question_93': 219, 'mt_bench_question_94': 699, 'mt_bench_question_95': 43, 'mt_bench_question_96': 262, 'mt_bench_question_97': 695, 'mt_bench_question_98': 102, 'mt_bench_question_99': 158}\n"
     ]
    }
   ],
   "source": [
    "# Parse the answers into a dictionary for easy lookup\n",
    "answers_dict = {}\n",
    "for line in answers_lines:\n",
    "    answer = json.loads(line)\n",
    "    question_id = answer['question_id']\n",
    "    max_token_len = 0\n",
    "    choices = answer.get('choices', [])\n",
    "    for choice in choices:\n",
    "        turns = choice.get('turns', [])\n",
    "        for turn in turns:\n",
    "            token_len = turn.get('token_len', 0)\n",
    "            if token_len > max_token_len:\n",
    "                max_token_len = token_len\n",
    "    answers_dict[question_id] = max_token_len\n",
    "\n",
    "print(answers_dict)"
   ]
  },
  {
   "cell_type": "code",
   "execution_count": 23,
   "metadata": {},
   "outputs": [],
   "source": [
    "transformed_questions = []\n",
    "\n",
    "# Process each line in the questions JSONL file\n",
    "for line in questions_lines:\n",
    "    question = json.loads(line)\n",
    "    question_id = question['question_id']\n",
    "    max_token_len = answers_dict.get(question_id, 0)\n",
    "    # Calculate the max_tokens value\n",
    "    max_tokens = max_token_len + 25 + math.ceil(0.4 * max_token_len)\n",
    "    max_tokens = math.ceil(max_tokens / 25) * 25\n",
    "    question['max_tokens'] = max_tokens\n",
    "    transformed_questions.append(question)\n",
    "    #print(question['max_tokens'])"
   ]
  },
  {
   "cell_type": "code",
   "execution_count": 24,
   "metadata": {},
   "outputs": [],
   "source": [
    "# Write the transformed questions to the output JSONL file\n",
    "with open(output_file_path, 'w') as file:\n",
    "    for question in transformed_questions:\n",
    "        file.write(json.dumps(question) + '\\n')"
   ]
  },
  {
   "cell_type": "code",
   "execution_count": null,
   "metadata": {},
   "outputs": [],
   "source": []
  }
 ],
 "metadata": {
  "kernelspec": {
   "display_name": "llm-env",
   "language": "python",
   "name": "python3"
  },
  "language_info": {
   "codemirror_mode": {
    "name": "ipython",
    "version": 3
   },
   "file_extension": ".py",
   "mimetype": "text/x-python",
   "name": "python",
   "nbconvert_exporter": "python",
   "pygments_lexer": "ipython3",
   "version": "3.11.9"
  }
 },
 "nbformat": 4,
 "nbformat_minor": 2
}
