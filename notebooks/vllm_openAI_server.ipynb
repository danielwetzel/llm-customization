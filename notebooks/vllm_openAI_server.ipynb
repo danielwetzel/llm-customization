{
 "cells": [
  {
   "cell_type": "code",
   "execution_count": 48,
   "metadata": {},
   "outputs": [],
   "source": [
    "from openai import OpenAI\n",
    "\n",
    "from datasets import load_dataset, concatenate_datasets\n",
    "from transformers import  AutoTokenizer"
   ]
  },
  {
   "cell_type": "code",
   "execution_count": 31,
   "metadata": {},
   "outputs": [],
   "source": [
    "class bcolors:\n",
    "    HEADER = '\\033[95m'\n",
    "    OKBLUE = '\\033[94m'\n",
    "    OKCYAN = '\\033[96m'\n",
    "    OKGREEN = '\\033[92m'\n",
    "    WARNING = '\\033[93m'\n",
    "    FAIL = '\\033[91m'\n",
    "    ENDC = '\\033[0m'\n",
    "    BOLD = '\\033[1m'\n",
    "    UNDERLINE = '\\033[4m'\n",
    "    CBLACKBG  = '\\33[40m'\n",
    "    CREDBG    = '\\33[41m'\n",
    "    CGREENBG  = '\\33[42m'\n",
    "    CYELLOWBG = '\\33[43m'\n",
    "    CBLUEBG   = '\\33[44m'\n",
    "    CVIOLETBG = '\\33[45m'\n",
    "    CBEIGEBG  = '\\33[46m'\n",
    "    CWHITEBG  = '\\33[47m'\n",
    "    CBLACK  = '\\33[30m'\n",
    "    CRED    = '\\33[31m'\n",
    "    CGREEN  = '\\33[32m'\n",
    "    CYELLOW = '\\33[33m'\n",
    "    CBLUE   = '\\33[34m'\n",
    "    CVIOLET = '\\33[35m'\n",
    "    CBEIGE  = '\\33[36m'\n",
    "    CWHITE  = '\\33[37m'"
   ]
  },
  {
   "cell_type": "code",
   "execution_count": 2,
   "metadata": {},
   "outputs": [
    {
     "name": "stdout",
     "output_type": "stream",
     "text": [
      "Mon Jun 17 12:04:38 2024       \n",
      "+---------------------------------------------------------------------------------------+\n",
      "| NVIDIA-SMI 535.183.01             Driver Version: 535.183.01   CUDA Version: 12.2     |\n",
      "|-----------------------------------------+----------------------+----------------------+\n",
      "| GPU  Name                 Persistence-M | Bus-Id        Disp.A | Volatile Uncorr. ECC |\n",
      "| Fan  Temp   Perf          Pwr:Usage/Cap |         Memory-Usage | GPU-Util  Compute M. |\n",
      "|                                         |                      |               MIG M. |\n",
      "|=========================================+======================+======================|\n",
      "|   0  NVIDIA L4                      On  | 00000000:38:00.0 Off |                    0 |\n",
      "| N/A   32C    P8              16W /  72W |      0MiB / 23034MiB |      0%      Default |\n",
      "|                                         |                      |                  N/A |\n",
      "+-----------------------------------------+----------------------+----------------------+\n",
      "|   1  NVIDIA L4                      On  | 00000000:3A:00.0 Off |                    0 |\n",
      "| N/A   31C    P8              15W /  72W |      0MiB / 23034MiB |      0%      Default |\n",
      "|                                         |                      |                  N/A |\n",
      "+-----------------------------------------+----------------------+----------------------+\n",
      "|   2  NVIDIA L4                      On  | 00000000:3C:00.0 Off |                    0 |\n",
      "| N/A   33C    P8              16W /  72W |      0MiB / 23034MiB |      0%      Default |\n",
      "|                                         |                      |                  N/A |\n",
      "+-----------------------------------------+----------------------+----------------------+\n",
      "|   3  NVIDIA L4                      On  | 00000000:3E:00.0 Off |                    0 |\n",
      "| N/A   32C    P8              16W /  72W |      0MiB / 23034MiB |      0%      Default |\n",
      "|                                         |                      |                  N/A |\n",
      "+-----------------------------------------+----------------------+----------------------+\n",
      "                                                                                         \n",
      "+---------------------------------------------------------------------------------------+\n",
      "| Processes:                                                                            |\n",
      "|  GPU   GI   CI        PID   Type   Process name                            GPU Memory |\n",
      "|        ID   ID                                                             Usage      |\n",
      "|=======================================================================================|\n",
      "|  No running processes found                                                           |\n",
      "+---------------------------------------------------------------------------------------+\n"
     ]
    }
   ],
   "source": [
    "%%sh \n",
    "nvidia-smi"
   ]
  },
  {
   "cell_type": "code",
   "execution_count": 13,
   "metadata": {},
   "outputs": [],
   "source": [
    "# Execute in Shell\n",
    "#%%sh\n",
    "#python -m vllm.entrypoints.openai.api_server --model dwetzel/Llama-3-8B-Instruct_Orce_plus --tensor-parallel-size 4 --enable-chunked-prefill --dtype bfloat16"
   ]
  },
  {
   "cell_type": "code",
   "execution_count": 3,
   "metadata": {},
   "outputs": [
    {
     "name": "stdout",
     "output_type": "stream",
     "text": [
      "Mon Jun 17 12:05:43 2024       \n",
      "+---------------------------------------------------------------------------------------+\n",
      "| NVIDIA-SMI 535.183.01             Driver Version: 535.183.01   CUDA Version: 12.2     |\n",
      "|-----------------------------------------+----------------------+----------------------+\n",
      "| GPU  Name                 Persistence-M | Bus-Id        Disp.A | Volatile Uncorr. ECC |\n",
      "| Fan  Temp   Perf          Pwr:Usage/Cap |         Memory-Usage | GPU-Util  Compute M. |\n",
      "|                                         |                      |               MIG M. |\n",
      "|=========================================+======================+======================|\n",
      "|   0  NVIDIA L4                      On  | 00000000:38:00.0 Off |                    0 |\n",
      "| N/A   35C    P0              27W /  72W |  20752MiB / 23034MiB |      0%      Default |\n",
      "|                                         |                      |                  N/A |\n",
      "+-----------------------------------------+----------------------+----------------------+\n",
      "|   1  NVIDIA L4                      On  | 00000000:3A:00.0 Off |                    0 |\n",
      "| N/A   34C    P0              26W /  72W |  20752MiB / 23034MiB |      0%      Default |\n",
      "|                                         |                      |                  N/A |\n",
      "+-----------------------------------------+----------------------+----------------------+\n",
      "|   2  NVIDIA L4                      On  | 00000000:3C:00.0 Off |                    0 |\n",
      "| N/A   36C    P0              26W /  72W |  20752MiB / 23034MiB |      0%      Default |\n",
      "|                                         |                      |                  N/A |\n",
      "+-----------------------------------------+----------------------+----------------------+\n",
      "|   3  NVIDIA L4                      On  | 00000000:3E:00.0 Off |                    0 |\n",
      "| N/A   34C    P0              26W /  72W |  20752MiB / 23034MiB |      0%      Default |\n",
      "|                                         |                      |                  N/A |\n",
      "+-----------------------------------------+----------------------+----------------------+\n",
      "                                                                                         \n",
      "+---------------------------------------------------------------------------------------+\n",
      "| Processes:                                                                            |\n",
      "|  GPU   GI   CI        PID   Type   Process name                            GPU Memory |\n",
      "|        ID   ID                                                             Usage      |\n",
      "|=======================================================================================|\n",
      "|    0   N/A  N/A    115141      C   python                                    20736MiB |\n",
      "|    1   N/A  N/A    118087      C   /opt/conda/envs/pytorch/bin/python        20736MiB |\n",
      "|    2   N/A  N/A    118089      C   /opt/conda/envs/pytorch/bin/python        20736MiB |\n",
      "|    3   N/A  N/A    118090      C   /opt/conda/envs/pytorch/bin/python        20736MiB |\n",
      "+---------------------------------------------------------------------------------------+\n"
     ]
    }
   ],
   "source": [
    "%%sh \n",
    "nvidia-smi"
   ]
  },
  {
   "cell_type": "code",
   "execution_count": 7,
   "metadata": {},
   "outputs": [],
   "source": [
    "# Modify OpenAI's API key and API base to use vLLM's API server.\n",
    "openai_api_key = \"EMPTY\"\n",
    "openai_api_base = \"http://localhost:8000/v1\"\n",
    "\n",
    "client = OpenAI(\n",
    "    # defaults to os.environ.get(\"OPENAI_API_KEY\")\n",
    "    api_key=openai_api_key,\n",
    "    base_url=openai_api_base,\n",
    ")\n",
    "\n",
    "model_name = 'dwetzel/Llama-3-8B-Instruct_Orce_plus'"
   ]
  },
  {
   "cell_type": "code",
   "execution_count": 19,
   "metadata": {},
   "outputs": [
    {
     "name": "stdout",
     "output_type": "stream",
     "text": [
      "ChatCompletionMessage(content=\"Hello! It's nice to meet you. Is there something I can help you with, or would you like to chat?\", role='assistant', function_call=None, tool_calls=[])\n"
     ]
    }
   ],
   "source": [
    "prompt = [{\"role\": \"user\", \"content\": \"Hello!\"}]\n",
    "\n",
    "completion = client.chat.completions.create(\n",
    "  model=model_name,\n",
    "  messages=prompt\n",
    ")\n",
    "\n",
    "print(completion.choices[0].message)"
   ]
  },
  {
   "cell_type": "code",
   "execution_count": 91,
   "metadata": {},
   "outputs": [],
   "source": [
    "def print_prompt(prompt, completion, with_system=False):\n",
    "    print(\"=\"*30 + f\" Chat with  --- {model_name} ---  LLM using vLLM \" + \"=\"*30 + \"\\n\")\n",
    "    for idx, message in enumerate(prompt):\n",
    "        if prompt[idx]['role'] == 'user':\n",
    "            color = bcolors.CBLUE\n",
    "            print(color + f\"[ {prompt[idx]['role'].upper()} ]\" + bcolors.ENDC)\n",
    "            print(prompt[idx]['content']+ \"\\n\")\n",
    "        else: \n",
    "            if with_system:\n",
    "                color = bcolors.CVIOLET\n",
    "                print(color + f\"[ {prompt[idx]['role'].upper()} ]\" + bcolors.ENDC)\n",
    "                print(prompt[idx]['content']+ \"\\n\")\n",
    "\n",
    "    print(bcolors.OKGREEN + f\"[ {completion.choices[0].message.role.upper()} ]\" + bcolors.ENDC)\n",
    "    print(completion.choices[0].message.content)"
   ]
  },
  {
   "cell_type": "code",
   "execution_count": 71,
   "metadata": {},
   "outputs": [
    {
     "name": "stdout",
     "output_type": "stream",
     "text": [
      "============================== Chat with  --- dwetzel/Llama-3-8B-Instruct_Orce_plus ---  LLM using vLLM ==============================\n",
      "\n",
      "\u001b[34m[ USER ]\u001b[0m\n",
      "Hello!\n",
      "\n",
      "\u001b[92m[ ASSISTANT ]\u001b[0m\n",
      "Hello! It's nice to meet you. Is there something I can help you with, or would you like to chat?\n"
     ]
    }
   ],
   "source": [
    "print_prompt(prompt, completion)"
   ]
  },
  {
   "cell_type": "markdown",
   "metadata": {},
   "source": [
    "# Test out with Dataset"
   ]
  },
  {
   "cell_type": "code",
   "execution_count": 49,
   "metadata": {},
   "outputs": [
    {
     "name": "stderr",
     "output_type": "stream",
     "text": [
      "Special tokens have been added in the vocabulary, make sure the associated word embeddings are fine-tuned or trained.\n"
     ]
    }
   ],
   "source": [
    "# Load the tokenizer\n",
    "tokenizer = AutoTokenizer.from_pretrained(model_name)\n",
    "tokenizer.pad_token = tokenizer.bos_token\n",
    "EOS_TOKEN = tokenizer.eos_token"
   ]
  },
  {
   "cell_type": "code",
   "execution_count": 50,
   "metadata": {},
   "outputs": [
    {
     "name": "stdout",
     "output_type": "stream",
     "text": [
      "<|eot_id|>\n"
     ]
    }
   ],
   "source": [
    "print(EOS_TOKEN)"
   ]
  },
  {
   "cell_type": "code",
   "execution_count": 58,
   "metadata": {},
   "outputs": [],
   "source": [
    "ultra_interact = load_dataset(\"openbmb/UltraInteract_sft\", split='train')\n",
    "orca_math = load_dataset(\"microsoft/orca-math-word-problems-200k\", split='train')"
   ]
  },
  {
   "cell_type": "code",
   "execution_count": 59,
   "metadata": {},
   "outputs": [],
   "source": [
    "# Define a function to filter by category and sample the required number of examples\n",
    "def sample_category(dataset, category, num_samples):\n",
    "    filtered_dataset = dataset.filter(lambda x: x['task'] == category)\n",
    "    sampled_dataset = filtered_dataset.shuffle().select(range(num_samples))\n",
    "    return sampled_dataset"
   ]
  },
  {
   "cell_type": "code",
   "execution_count": 60,
   "metadata": {},
   "outputs": [
    {
     "name": "stdout",
     "output_type": "stream",
     "text": [
      "{'instruction': \"Solve the following problem step-by-step:\\nGiven the context and corresponding question, choose the correct answer from the options.\\n\\nContext: \\nLawyer: If you take something that you have good reason to think is someone else' s property, that is stealing, and stealing is wrong. However, Meyers had no good reason to think that the compost in the public garden was anyone else' s property, so it was not wrong for Meyers to take it.\\n\\nQuestion: \\nThe reasoning in the lawyer's argument is flawed in that the argument\\n\\nOptions: \\nA. takes a condition that by itself is enough to make an action wrong to also be necessary in order for the action to be wrong\\nB. fails to consider the possibility that the compost was Meyers' property\\nC. concludes that something is certainly someone else's property when there is merely good, but not conclusive, reason to think that it is someone else's property\\nD. takes for granted that Meyers would not have taken the compost if he had good reason to believe that it was someone else's property\\n\\n Step 1: The lawyer's argument is based on the premise that taking something that is someone else's property is stealing and stealing is wrong.\\nStep 2: The lawyer argues that Meyers had no good reason to believe that the compost in the public garden was anyone else's property.\\nStep 3: Therefore, the lawyer concludes that it was not wrong for Meyers to take the compost.\\nStep 4: Option A: The argument does not take a condition that is enough to make an action wrong and also necessary for the action to be wrong. The argument only focuses on whether Meyers had a good reason to believe that the compost was someone else's property.\\nStep 5: Option B: The argument does not consider the possibility that the compost was Meyers' property. It specifically states that Meyers had no good reason to believe it was someone else's property.\\nStep 6: Option C: The argument does not conclude that the compost was certainly someone else's property. It only states that Meyers had no good reason to believe it was someone else's property.\\nStep 7: Option D: The argument does not assume that Meyers would not have taken the compost if he had good reason to believe it was someone else's property. It simply argues that Meyers had no good reason to believe it was someone else's property.\\nStep 8: Based on the analysis, the lawyer's argument is flawed in that it fails to consider the possibility that the compost was Meyers' property. So, the correct answer is B.\\nAnswer:\\nB\\n\\n Out: B\\nYour answer is wrong.\\nYour analysis of option B is incorrect. The lawyer's argument doesn't fail to consider the possibility that the compost was Meyers' property, given that the argument revolves around whether Meyers believed it to be someone else's property. Your analysis of option A is also incorrect. The argument does take a condition (thinking something is someone else's property), which is sufficient to make an action (stealing) wrong, and wrongly considers it to also be a necessary condition for the action to be wrong. It assumes that without this condition, an action can't be wrong, which is a flaw. Please reanalyze these options.\", 'response': \"Step 1: The lawyer's argument is based on the premise that taking something that is someone else's property is stealing and stealing is wrong.\\nStep 2: The lawyer argues that Meyers had no good reason to believe that the compost in the public garden was anyone else's property.\\nStep 3: Therefore, the lawyer concludes that it was not wrong for Meyers to take the compost.\\nStep 4: Option A: The lawyer's argument does take a condition (thinking something is someone else's property), which is sufficient to make an action (stealing) wrong. However, the lawyer wrongly assumes that this condition is necessary for the action to be wrong.\\nStep 5: Option B: The lawyer's argument does consider the possibility that the compost was Meyers' property. It states that Meyers had no good reason to believe it was someone else's property, implying that it could have been Meyers' property.\\nStep 6: Option C: The lawyer's argument does not conclude that the compost was certainly someone else's property. It only states that Meyers had no good reason to believe it was someone else's property.\\nStep 7: Option D: The lawyer's argument does not assume that Meyers would not have taken the compost if he had good reason to believe it was someone else's property. It only argues that Meyers had no good reason to believe it was someone else's property.\\nStep 8: Based on the analysis, the lawyer's argument is flawed in that it wrongly assumes that the condition of thinking something is someone else's property is necessary for an action to be wrong. Therefore, the correct answer is A.\\nAnswer:\\nA\\n\"}\n",
      "{'instruction': 'Tool available:\\n[1] Python interpreter\\nWhen you send a message containing Python code to python, it will be executed in a stateful Jupyter notebook environment.\\nSolve the following math problem step-by-step.\\na dishonest shopkeeper professes to sell pulses at the cost price , but he uses a false weight of 980 gm . for a kg . his gain is … % .', 'response': 'Step 1:  Understand the problem: A shopkeeper claims to sell at cost price but uses a lighter weight, necessitating the calculation of his gain percentage.\\nStep 2:  Define the actual weight (1000 grams) and the false weight (980 grams) the shopkeeper uses.\\nStep 3:  Calculate the gain by finding the difference between the actual weight and the false weight.\\nStep 4:  Determine the percentage gain by relating the gain to the weight (980 grams) the shopkeeper actually sells, and convert it into a percentage.\\nStep 5:  Round the result to two decimal places to match the format of the options.\\n```python\\n# Step 6:  Define the false weight used by the shopkeeper\\nfalse_weight = 980  # Step 7:  in grams\\n\\n# Step 8:  Define the actual weight for a kilogram (in grams)\\nactual_weight = 1000  # Step 9:  in grams\\n\\n# Step 10:  Calculate the gain in weight by subtracting the false weight from the actual weight\\ngain_weight = actual_weight - false_weight\\n\\n# Step 11:  Calculate the percentage gain\\npercentage_gain = (gain_weight / false_weight) * 100\\n\\n# Step 12:  Print the percentage gain rounded to two decimal places\\nprint(round(percentage_gain, 2))\\n```'}\n",
      "{'instruction': 'Solve the following math problem step-by-step.\\nSimplify your answer as much as possible. Present your final answer as \\\\boxed{Your Answer}.\\nA piece of cheese is located at $(12,10)$ in a coordinate plane.  A mouse is at $(4,-2)$ and is running  up  the line $y=-5x+18$.  At the point $(a,b)$ the mouse starts getting farther from the cheese rather than closer to it. What is $a + b$?', 'response': 'Step 1:  Here, we need to find the point on the line $y=-5x+18$ that represents the foot of the perpendicular from the cheese at $(12,10)$.\\nStep 2:  The perpendicular from $(12,10)$ will have a slope that is the negative reciprocal of the slope of the given line $y=-5x+18$, which is $\\\\frac{1}{5}$.\\nStep 3:  We can use the point-slope form of a line to find the equation of this perpendicular line. The point-slope form is given by $y-y_1=m(x-x_1)$, where $(x_1,y_1)$ is a point on the line and $m$ is the slope.\\nStep 4:  So, the equation of the perpendicular line passing through $(12,10)$ is $y-10=\\\\frac{1}{5}(x-12)$.\\nStep 5:  Simplifying this equation gives us $y=10+\\\\frac{1}{5}x-\\\\frac{6}{5}=\\\\frac{1}{5}x+\\\\frac{38}{5}$.\\nStep 6:  To find the coordinates of the foot of the perpendicular, we need to solve for the point where this perpendicular line intersects the original line $y=-5x+18$. We set these two equations equal to each other: $\\\\frac{1}{5}x+\\\\frac{38}{5}=-5x+18$.\\nStep 7:  Solving for $x$ gives us $x=2$. Substituting this value of $x$ back into the equation $y=-5x+18$ gives us $y=8$.\\nStep 8:  So, the coordinates of the point where the mouse starts getting farther from the cheese than closer to it are $(2,8)$.\\nStep 9:  Therefore, $a=2$ and $b=8$, and $a+b = \\\\boxed{10}$.\\n\\nAnswer:\\n\\\\boxed{10}'}\n",
      "{'instruction': \"Write Python code to solve the task.\\n# Situation\\nYou have been hired by a company making electric garage doors. Accidents with the present product line have resulted in numerous damaged cars, broken limbs and several killed pets. Your mission is to write a safer version of their controller software.\\n\\n# Specification\\nWe always start with a closed door. The remote control has exactly one button, with the following behaviour.\\n\\n+ If the door is closed, a push starts opening the door, and vice-versa\\n+ It takes 5 seconds for the door to open or close completely\\n+ While the door is moving, one push pauses movement, another push resumes movement in the same direction\\n\\nIn order to make the door safer, it has been equiped with resistance-based obstacle detection. When the door detects an obstacle, it must immediately reverse the direction of movement.\\n\\n# Input\\nA string where each character represents one second, with the following possible values.\\n\\n* ```'.'``` No event\\n* ```'P'``` Button has been pressed\\n* ```'O'``` Obstacle has been detected (supersedes P)\\n\\nAs an example, ```'..P....'``` means that nothing happens for two seconds, then the button is pressed, then no further events.\\n\\n# Output\\nA string where each character represents one second and indicates the position of the door (0 if fully closed and 5 fully open). The door starts moving immediately, hence its position changes at the same second as the event.\\n\\n# Example\\n```..P...O.....``` as input should yield\\n```001234321000``` as output\", 'response': \"Step 1:  The main goal of the given problem is to create a safer version of the controller software for electric garage doors by incorporating resistance-based obstacle detection.Step 2:  We need to simulate the behavior of the remote control with obstacle detection and incorporate functionality for opening and closing the door, pausing and resuming the movement, and immediately reversing the direction when an obstacle is detected.Step 3:  We should keep track of the initial state of the door, the movement, and the direction of the movement based on the input events. Additionally, we need to generate the output representing the position of the door at each second.Step 4:  We can simulate the door's movement based on the input events and apply the necessary logic to determine the correct position of the door based on the state, movement, direction, and events.Step 5:  We'll need to handle different types of events (button press and obstacle detection) and update the state of the door while considering the movement and direction.```python\\n# Step 6: Define a function to simulate the behavior of the remote control with obstacle detection and generate the position of the door at each second based on the input events.\\ndef controller(events):\\n    # Step 7: Initialize the initial state of the door, movement, direction, and output string.\\n    \\n\\tstate = 0\\n\\tmovement = False\\n\\tdirection = True\\n\\toutput = ''\\n# Step 8: Iterate through the input events and update the state of the door, movement, and direction based on the events.\\n\\t\\n\\tfor event in events:\\n# Step 9: If the event is a button press, toggle the movement.\\n\\t\\t\\n\\t\\tif event == 'P':\\n\\t\\t\\tmovement = not movement\\n# Step 10: If the event is an obstacle detection, toggle the direction.\\n\\t\\t\\n\\t\\tif event == 'O':\\n\\t\\t\\tdirection = not direction\\n# Step 11: Calculate the new state of the door based on the movement and direction.\\n\\t\\t\\n\\t\\tstate = state + (-1, 1)[direction] * movement\\n# Step 12: If the state is 0 (fully closed) or 5 (fully open), reverse the direction and stop the movement.\\n\\t\\t\\n\\t\\tif state in (0, 5):\\n\\t\\t\\tdirection = not state\\n\\t\\t\\tmovement = False\\n# Step 13: Append the current state to the output string.\\n\\t\\t\\n\\t\\toutput += str(state)\\n# Step 14: Return the final output representing the position of the door at each second.\\n\\t\\n\\treturn output```\"}\n"
     ]
    }
   ],
   "source": [
    "# Sample the required number of examples from each category\n",
    "logic_examples = sample_category(ultra_interact, \"Logic\", 5000)\n",
    "math_pot_examples = sample_category(ultra_interact, \"Math_PoT\", 2500)\n",
    "math_cot_examples = sample_category(ultra_interact, \"Math_CoT\", 2500)\n",
    "coding_examples = sample_category(ultra_interact, \"Coding\", 15000)\n",
    "\n",
    "# Remove unnecessary columns from UltraInteract datasets\n",
    "logic_examples = logic_examples.remove_columns([col for col in logic_examples.column_names if col not in ['instruction', 'response']])\n",
    "math_pot_examples = math_pot_examples.remove_columns([col for col in math_pot_examples.column_names if col not in ['instruction', 'response']])\n",
    "math_cot_examples = math_cot_examples.remove_columns([col for col in math_cot_examples.column_names if col not in ['instruction', 'response']])\n",
    "coding_examples = coding_examples.remove_columns([col for col in coding_examples.column_names if col not in ['instruction', 'response']])\n",
    "\n",
    "all_ultra_interact = concatenate_datasets([logic_examples, math_pot_examples, math_cot_examples, coding_examples])\n",
    "\n",
    "print(logic_examples[0])\n",
    "print(math_pot_examples[0])\n",
    "print(math_cot_examples[0])\n",
    "print(coding_examples[0])"
   ]
  },
  {
   "cell_type": "code",
   "execution_count": 61,
   "metadata": {},
   "outputs": [],
   "source": [
    "# Normalize the structure of the Orca Math dataset\n",
    "def normalize_to_qa(example):\n",
    "    return {\n",
    "        'question': example['instruction'],\n",
    "        'answer': example['response']\n",
    "    }"
   ]
  },
  {
   "cell_type": "code",
   "execution_count": 62,
   "metadata": {},
   "outputs": [
    {
     "data": {
      "application/vnd.jupyter.widget-view+json": {
       "model_id": "f235c0c8994b42d6860ace87d1192fd1",
       "version_major": 2,
       "version_minor": 0
      },
      "text/plain": [
       "Map:   0%|          | 0/25000 [00:00<?, ? examples/s]"
      ]
     },
     "metadata": {},
     "output_type": "display_data"
    },
    {
     "name": "stdout",
     "output_type": "stream",
     "text": [
      "{'question': \"Solve the following problem step-by-step:\\nGiven the context and corresponding question, choose the correct answer from the options.\\n\\nContext: \\nLawyer: If you take something that you have good reason to think is someone else' s property, that is stealing, and stealing is wrong. However, Meyers had no good reason to think that the compost in the public garden was anyone else' s property, so it was not wrong for Meyers to take it.\\n\\nQuestion: \\nThe reasoning in the lawyer's argument is flawed in that the argument\\n\\nOptions: \\nA. takes a condition that by itself is enough to make an action wrong to also be necessary in order for the action to be wrong\\nB. fails to consider the possibility that the compost was Meyers' property\\nC. concludes that something is certainly someone else's property when there is merely good, but not conclusive, reason to think that it is someone else's property\\nD. takes for granted that Meyers would not have taken the compost if he had good reason to believe that it was someone else's property\\n\\n Step 1: The lawyer's argument is based on the premise that taking something that is someone else's property is stealing and stealing is wrong.\\nStep 2: The lawyer argues that Meyers had no good reason to believe that the compost in the public garden was anyone else's property.\\nStep 3: Therefore, the lawyer concludes that it was not wrong for Meyers to take the compost.\\nStep 4: Option A: The argument does not take a condition that is enough to make an action wrong and also necessary for the action to be wrong. The argument only focuses on whether Meyers had a good reason to believe that the compost was someone else's property.\\nStep 5: Option B: The argument does not consider the possibility that the compost was Meyers' property. It specifically states that Meyers had no good reason to believe it was someone else's property.\\nStep 6: Option C: The argument does not conclude that the compost was certainly someone else's property. It only states that Meyers had no good reason to believe it was someone else's property.\\nStep 7: Option D: The argument does not assume that Meyers would not have taken the compost if he had good reason to believe it was someone else's property. It simply argues that Meyers had no good reason to believe it was someone else's property.\\nStep 8: Based on the analysis, the lawyer's argument is flawed in that it fails to consider the possibility that the compost was Meyers' property. So, the correct answer is B.\\nAnswer:\\nB\\n\\n Out: B\\nYour answer is wrong.\\nYour analysis of option B is incorrect. The lawyer's argument doesn't fail to consider the possibility that the compost was Meyers' property, given that the argument revolves around whether Meyers believed it to be someone else's property. Your analysis of option A is also incorrect. The argument does take a condition (thinking something is someone else's property), which is sufficient to make an action (stealing) wrong, and wrongly considers it to also be a necessary condition for the action to be wrong. It assumes that without this condition, an action can't be wrong, which is a flaw. Please reanalyze these options.\", 'answer': \"Step 1: The lawyer's argument is based on the premise that taking something that is someone else's property is stealing and stealing is wrong.\\nStep 2: The lawyer argues that Meyers had no good reason to believe that the compost in the public garden was anyone else's property.\\nStep 3: Therefore, the lawyer concludes that it was not wrong for Meyers to take the compost.\\nStep 4: Option A: The lawyer's argument does take a condition (thinking something is someone else's property), which is sufficient to make an action (stealing) wrong. However, the lawyer wrongly assumes that this condition is necessary for the action to be wrong.\\nStep 5: Option B: The lawyer's argument does consider the possibility that the compost was Meyers' property. It states that Meyers had no good reason to believe it was someone else's property, implying that it could have been Meyers' property.\\nStep 6: Option C: The lawyer's argument does not conclude that the compost was certainly someone else's property. It only states that Meyers had no good reason to believe it was someone else's property.\\nStep 7: Option D: The lawyer's argument does not assume that Meyers would not have taken the compost if he had good reason to believe it was someone else's property. It only argues that Meyers had no good reason to believe it was someone else's property.\\nStep 8: Based on the analysis, the lawyer's argument is flawed in that it wrongly assumes that the condition of thinking something is someone else's property is necessary for an action to be wrong. Therefore, the correct answer is A.\\nAnswer:\\nA\\n\"}\n"
     ]
    }
   ],
   "source": [
    "all_ultra_interact = all_ultra_interact.map(normalize_to_qa)\n",
    "all_ultra_interact = all_ultra_interact.remove_columns([col for col in all_ultra_interact.column_names if col not in ['question', 'answer']])\n",
    "print(all_ultra_interact[0])"
   ]
  },
  {
   "cell_type": "code",
   "execution_count": 63,
   "metadata": {},
   "outputs": [
    {
     "name": "stdout",
     "output_type": "stream",
     "text": [
      "{'question': \"The time it took car P to travel 300 miles was 2 hours less than the time it took car R to travel the same distance. Car P's average speed was 10 miles per hour greater than that of car R. What was car R's average speed, in miles per hour?\", 'answer': \"Let's denote the average speed of car R as \\\\( v_R \\\\) miles per hour. Since car P's average speed is 10 miles per hour greater, car P's average speed will be \\\\( v_R + 10 \\\\) miles per hour.\\n\\nThe time it takes for each car to travel 300 miles can be found by dividing the distance by the speed. So, the time for car R to travel 300 miles is \\\\( \\\\frac{300}{v_R} \\\\) hours, and the time for car P to travel the same distance is \\\\( \\\\frac{300}{v_R + 10} \\\\) hours.\\n\\nAccording to the problem, the time it took car P to travel 300 miles was 2 hours less than the time it took car R. We can write this as an equation:\\n\\n\\\\[ \\\\frac{300}{v_R} - 2 = \\\\frac{300}{v_R + 10} \\\\]\\n\\nNow, we solve for \\\\( v_R \\\\):\\n\\n\\\\[ \\\\frac{300}{v_R} - \\\\frac{300}{v_R + 10} = 2 \\\\]\\n\\nTo solve this equation, we need to find a common denominator for the fractions, which is \\\\( v_R(v_R + 10) \\\\). We multiply both sides of the equation by this common denominator to eliminate the fractions:\\n\\n\\\\[ 300(v_R + 10) - 300v_R = 2v_R(v_R + 10) \\\\]\\n\\nExpanding both sides:\\n\\n\\\\[ 300v_R + 3000 - 300v_R = 2v_R^2 + 20v_R \\\\]\\n\\nThe \\\\( 300v_R \\\\) terms cancel out:\\n\\n\\\\[ 3000 = 2v_R^2 + 20v_R \\\\]\\n\\nDivide both sides by 2 to simplify:\\n\\n\\\\[ 1500 = v_R^2 + 10v_R \\\\]\\n\\nNow we have a quadratic equation. To solve for \\\\( v_R \\\\), we can rearrange the equation to set it to zero:\\n\\n\\\\[ v_R^2 + 10v_R - 1500 = 0 \\\\]\\n\\nThis quadratic equation can be factored:\\n\\n\\\\[ (v_R - 30)(v_R + 50) = 0 \\\\]\\n\\nSo, \\\\( v_R \\\\) could be either 30 or -50. Since speed cannot be negative, we discard -50.\\n\\nTherefore, car R's average speed is 30 miles per hour.\"}\n"
     ]
    }
   ],
   "source": [
    "orca_math_examples = orca_math.shuffle().select(range(30000))\n",
    "\n",
    "print(orca_math_examples[0])"
   ]
  },
  {
   "cell_type": "code",
   "execution_count": 65,
   "metadata": {},
   "outputs": [
    {
     "name": "stdout",
     "output_type": "stream",
     "text": [
      "55000\n",
      "{'question': 'The sale price of sarees listed for some amount after successive discounts of 20% and 5% is Rs. 152. What was the original price of the sarees?', 'answer': \"Let's denote the original price of the sarees as \\\\( P \\\\).\\n\\nAfter the first discount of 20%, the price becomes \\\\( P - 0.20P = 0.80P \\\\).\\n\\nAfter the second discount of 5% on the already discounted price, the price becomes \\\\( 0.80P - 0.05 \\\\times 0.80P = 0.80P \\\\times (1 - 0.05) = 0.80P \\\\times 0.95 \\\\).\\n\\nWe are given that the final sale price after both discounts is Rs. 152. So we can set up the equation:\\n\\n\\\\[ 0.80P \\\\times 0.95 = 152 \\\\]\\n\\nNow we can solve for \\\\( P \\\\):\\n\\n\\\\[ 0.76P = 152 \\\\]\\n\\n\\\\[ P = \\\\frac{152}{0.76} \\\\]\\n\\n\\\\[ P = 200 \\\\]\\n\\nSo the original price of the sarees was Rs. 200.\"}\n",
      "{'question': 'Write Python code to solve the task.\\nCan you determine the numerical value that correctly completes the equation, if we consider that 1 meter equals 1,000 millimeters: 48 m = [?] mm?\\nA) 48,000\\nB) 480\\nC) 4,800\\nD) 5', 'answer': 'Step 1: Understand that 1 meter equals 1,000 millimeters.\\nStep 2: Calculate the number of millimeters in 48 meters by multiplying 48 by 1,000.\\nStep 3: After calculating, choose the option that corresponds to the result obtained in step 2.\\n\\n\\n```python\\n# Step 4: Since 48 meters equals 48,000 millimeters, the correct answer is A) 48,000.\\nA\\n```'}\n",
      "{'question': \"Tool available:\\n[1] wikipedia_search(query: str) -> str\\nThe Wikipedia Search tool provides access to a vast collection of articles covering a wide range of topics.\\nCan query specific keywords or topics to retrieve accurate and comprehensive information.\\nSolve the following problem step-by-step:\\nWould Saddam Hussein hypothetically choose Saladin as ally over Idris I? Answer with TRUE or FALSE. Step 1: Let me search for information about Saddam Hussein, Saladin and Idris I to understand their relationships and make a judgment.\\n\\n```python\\n# Step 2: Searching for the information about Saddam Hussein.\\nprint(wikipedia_search('Saddam Hussein'))\\n# Step 3: Searching for the information about Saladin.\\nprint(wikipedia_search('Saladin'))\\n# Step 4: Searching for the information about Idris I.\\nprint(wikipedia_search('Idris I'))\\n\\n```\\n \\nPage: Saddam Hussein\\nSummary: Saddam Hussein Abd al-Majid al-Tikriti (28 April 1937 – 30 December 2006) was an Iraqi politician and revolutionary who served as the fifth president of Iraq from 1979 to 2003. He also served as prime minister of Iraq from 1979 to 1991 and later from 1994 to 2003. He was a leading member of the revolutionary Arab Socialist Ba'ath Party, and later, the Baghdad-based Ba'ath Party and its regional organization, the Iraqi Ba'ath Party, which espoused Ba'athism, a mix of Arab nationalism and Arab socialism.\\nSaddam was born in Al-Awja, near Tikrit, to a prominent Sunni Muslim family. He joined the Arab Socialist Ba'ath Party in 1957, and the Baghdad-based Ba'ath Party, and its regional organization, the Iraqi Ba'ath Party. He played a key role in the 17 July Revolution and was appointed vice president by Ahmed Hassan al-Bakr. During his time as vice president, Saddam nationalised the Iraq Petroleum Company, diversifying the Iraqi economy. He presided over the Second Iraqi–Kurdish War (1974–1975). Following al-Bakr's resignation in 1979, Saddam formally took power, although he had already been the de facto head of Iraq for several years. Positions of power in the country were mostly filled with Sunni Arabs, a minority that made up only a fifth of the population.Upon taking office, Saddam instituted the Ba'ath Party Purge. Saddam ordered the 1980 invasion of Iran in effort to purportedly capture Iran's Arab-majority Khuzistan province and thwart Iranian attempts to export their revolution. The Iran–Iraq War ended after nearly eight years in a ceasefire after a gruelling stalemate that took somewhere around a total of a million lives and economic losses of $561 billion in Iraq. Later, Saddam accused its ally Kuwait of slant-drilling Iraqi oil fields and occupied Kuwait, initiating the Gulf War (1990–1991). Iraq was defeated by a multinational coalition led by the United States. The United Nations subsequently placed sanctions against Iraq. He su...\\n[Output Truncated]\\n\", 'answer': \"Step 1: Let me search for information about Idris I as well to complete understanding the relationships.\\n\\n```python\\n# Step 2: Searching for the information about Idris I.\\nprint(wikipedia_search('Idris I'))\\n\\n```\"}\n",
      "{'question': 'Carol was playing a trivia game. In the first round she scored 17 points, in the second round she scored 6 points, and in the last round she lost 16 points. How many points did she have at the end of the game?', 'answer': 'At the end of the game, Carol had:\\n\\nFirst round: 17 points\\nSecond round: +6 points\\nLast round: -16 points\\n\\nTotal points = 17 + 6 - 16 = 23 - 16 = 7 points\\n\\nCarol had 7 points at the end of the game.'}\n"
     ]
    }
   ],
   "source": [
    "# Concatenate all the sampled examples\n",
    "all_examples = concatenate_datasets([orca_math_examples, all_ultra_interact])\n",
    "all_examples = all_examples.shuffle()\n",
    "print(len(all_examples))\n",
    "print(all_examples[0])\n",
    "print(all_examples[1])\n",
    "print(all_examples[2])\n",
    "print(all_examples[3])"
   ]
  },
  {
   "cell_type": "code",
   "execution_count": 66,
   "metadata": {},
   "outputs": [],
   "source": [
    "system_prompt = \"\"\" \n",
    "You are an expert in the domains math, coding and logical thinking.\n",
    "You are there to help users solve tasks in these domains efficiently and accurately. \n",
    "Follow these guidelines when responding to user instructions:\n",
    "    \\n\n",
    "    1. **Understand the Task**: Carefully read and comprehend the given instruction or task description.\n",
    "    2. **Generate Detailed Responses**: Provide clear, concise, and detailed responses to address the user's task. Ensure the response is complete and accurate.\n",
    "    3. **Maintain Context**: Ensure that your response maintains the context of the task and addresses all aspects of the instruction.\n",
    "    4. **Use Appropriate Formatting**: Structure your responses in a readable and logical format, using bullet points, lists, or code blocks as necessary.\n",
    "    5. **Be Accurate and Concise**: Avoid unnecessary information. Be precise and to the point, ensuring the information is correct and useful.\n",
    "\\n\n",
    "Now solve the following task based on the given instruction:\n",
    "\\n\n",
    "### Task: \n",
    "\\n\n",
    "\"\"\""
   ]
  },
  {
   "cell_type": "code",
   "execution_count": 81,
   "metadata": {},
   "outputs": [],
   "source": [
    "# Define the apply_chat_template function\n",
    "def apply_chat_template_inference(examples):\n",
    "    formatted_dict = []\n",
    "    for instruction, response in zip(examples['question'], examples['answer']):\n",
    "        user_message = f\"###Question:\\n{instruction} \\n\\n ###Answer:\"\n",
    "        messages = [\n",
    "            {\"role\": \"system\", \"content\": system_prompt},\n",
    "            {\"role\": \"user\", \"content\": user_message},\n",
    "        ]\n",
    "        formatted_dict.append(messages)\n",
    "    return formatted_dict"
   ]
  },
  {
   "cell_type": "code",
   "execution_count": 93,
   "metadata": {},
   "outputs": [
    {
     "name": "stdout",
     "output_type": "stream",
     "text": [
      "[{'role': 'system', 'content': \" \\nYou are an expert in the domains math, coding and logical thinking.\\nYou are there to help users solve tasks in these domains efficiently and accurately. \\nFollow these guidelines when responding to user instructions:\\n    \\n\\n    1. **Understand the Task**: Carefully read and comprehend the given instruction or task description.\\n    2. **Generate Detailed Responses**: Provide clear, concise, and detailed responses to address the user's task. Ensure the response is complete and accurate.\\n    3. **Maintain Context**: Ensure that your response maintains the context of the task and addresses all aspects of the instruction.\\n    4. **Use Appropriate Formatting**: Structure your responses in a readable and logical format, using bullet points, lists, or code blocks as necessary.\\n    5. **Be Accurate and Concise**: Avoid unnecessary information. Be precise and to the point, ensuring the information is correct and useful.\\n\\n\\nNow solve the following task based on the given instruction:\\n\\n\\n### Task: \\n\\n\\n\"}, {'role': 'user', 'content': '###Question:\\nThe sale price of sarees listed for some amount after successive discounts of 20% and 5% is Rs. 152. What was the original price of the sarees? \\n\\n ###Answer:'}]\n"
     ]
    }
   ],
   "source": [
    "sampled_dataset = all_examples.select(range(5))\n",
    "questions = apply_chat_template_inference(sampled_dataset)\n",
    "print(questions[0])"
   ]
  },
  {
   "cell_type": "code",
   "execution_count": 95,
   "metadata": {},
   "outputs": [
    {
     "name": "stdout",
     "output_type": "stream",
     "text": [
      "==============================================================  RUN 1  ==============================================================\n",
      "\n",
      "\n",
      "============================== Chat with  --- dwetzel/Llama-3-8B-Instruct_Orce_plus ---  LLM using vLLM ==============================\n",
      "\n",
      "\u001b[34m[ USER ]\u001b[0m\n",
      "###Question:\n",
      "The sale price of sarees listed for some amount after successive discounts of 20% and 5% is Rs. 152. What was the original price of the sarees? \n",
      "\n",
      " ###Answer:\n",
      "\n",
      "\u001b[92m[ ASSISTANT ]\u001b[0m\n",
      "Let's denote the original price of the sarees as x.\n",
      "\n",
      "After the first discount of 20%, the price becomes 80% of the original price, which is 0.8x.\n",
      "\n",
      "Then, after the second discount of 5%, the price becomes 95% of the price after the first discount, which is 0.95(0.8x).\n",
      "\n",
      "We are given that the sale price is Rs. 152. Therefore, we can set up the equation:\n",
      "\n",
      "0.95(0.8x) = 152\n",
      "\n",
      "To solve for x, we can first multiply both sides of the equation by 100 to get rid of the decimals:\n",
      "\n",
      "0.95(0.8x) * 100 = 152 * 100\n",
      "\n",
      "This gives us:\n",
      "\n",
      "95(8x) = 15200\n",
      "\n",
      "Now, we can divide both sides of the equation by 95 to solve for x:\n",
      "\n",
      "8x = 15200 / 95\n",
      "\n",
      "8x = 160\n",
      "\n",
      "Finally, we can divide both sides of the equation by 8 to find the original price x:\n",
      "\n",
      "x = 160 / 8\n",
      "\n",
      "x = 20\n",
      "\n",
      "So, the original price of the sarees is Rs. 20.\n",
      "==============================================================  RUN 2  ==============================================================\n",
      "\n",
      "\n",
      "============================== Chat with  --- dwetzel/Llama-3-8B-Instruct_Orce_plus ---  LLM using vLLM ==============================\n",
      "\n",
      "\u001b[34m[ USER ]\u001b[0m\n",
      "###Question:\n",
      "Write Python code to solve the task.\n",
      "Can you determine the numerical value that correctly completes the equation, if we consider that 1 meter equals 1,000 millimeters: 48 m = [?] mm?\n",
      "A) 48,000\n",
      "B) 480\n",
      "C) 4,800\n",
      "D) 5 \n",
      "\n",
      " ###Answer:\n",
      "\n",
      "\u001b[92m[ ASSISTANT ]\u001b[0m\n",
      "To solve this task, we need to convert the given distance in meters to millimeters using the conversion rate provided.\n",
      "==============================================================  RUN 3  ==============================================================\n",
      "\n",
      "\n",
      "============================== Chat with  --- dwetzel/Llama-3-8B-Instruct_Orce_plus ---  LLM using vLLM ==============================\n",
      "\n",
      "\u001b[34m[ USER ]\u001b[0m\n",
      "###Question:\n",
      "Tool available:\n",
      "[1] wikipedia_search(query: str) -> str\n",
      "The Wikipedia Search tool provides access to a vast collection of articles covering a wide range of topics.\n",
      "Can query specific keywords or topics to retrieve accurate and comprehensive information.\n",
      "Solve the following problem step-by-step:\n",
      "Would Saddam Hussein hypothetically choose Saladin as ally over Idris I? Answer with TRUE or FALSE. Step 1: Let me search for information about Saddam Hussein, Saladin and Idris I to understand their relationships and make a judgment.\n",
      "\n",
      "```python\n",
      "# Step 2: Searching for the information about Saddam Hussein.\n",
      "print(wikipedia_search('Saddam Hussein'))\n",
      "# Step 3: Searching for the information about Saladin.\n",
      "print(wikipedia_search('Saladin'))\n",
      "# Step 4: Searching for the information about Idris I.\n",
      "print(wikipedia_search('Idris I'))\n",
      "\n",
      "```\n",
      " \n",
      "Page: Saddam Hussein\n",
      "Summary: Saddam Hussein Abd al-Majid al-Tikriti (28 April 1937 – 30 December 2006) was an Iraqi politician and revolutionary who served as the fifth president of Iraq from 1979 to 2003. He also served as prime minister of Iraq from 1979 to 1991 and later from 1994 to 2003. He was a leading member of the revolutionary Arab Socialist Ba'ath Party, and later, the Baghdad-based Ba'ath Party and its regional organization, the Iraqi Ba'ath Party, which espoused Ba'athism, a mix of Arab nationalism and Arab socialism.\n",
      "Saddam was born in Al-Awja, near Tikrit, to a prominent Sunni Muslim family. He joined the Arab Socialist Ba'ath Party in 1957, and the Baghdad-based Ba'ath Party, and its regional organization, the Iraqi Ba'ath Party. He played a key role in the 17 July Revolution and was appointed vice president by Ahmed Hassan al-Bakr. During his time as vice president, Saddam nationalised the Iraq Petroleum Company, diversifying the Iraqi economy. He presided over the Second Iraqi–Kurdish War (1974–1975). Following al-Bakr's resignation in 1979, Saddam formally took power, although he had already been the de facto head of Iraq for several years. Positions of power in the country were mostly filled with Sunni Arabs, a minority that made up only a fifth of the population.Upon taking office, Saddam instituted the Ba'ath Party Purge. Saddam ordered the 1980 invasion of Iran in effort to purportedly capture Iran's Arab-majority Khuzistan province and thwart Iranian attempts to export their revolution. The Iran–Iraq War ended after nearly eight years in a ceasefire after a gruelling stalemate that took somewhere around a total of a million lives and economic losses of $561 billion in Iraq. Later, Saddam accused its ally Kuwait of slant-drilling Iraqi oil fields and occupied Kuwait, initiating the Gulf War (1990–1991). Iraq was defeated by a multinational coalition led by the United States. The United Nations subsequently placed sanctions against Iraq. He su...\n",
      "[Output Truncated]\n",
      " \n",
      "\n",
      " ###Answer:\n",
      "\n",
      "\u001b[92m[ ASSISTANT ]\u001b[0m\n",
      "Based on the information retrieved from the Wikipedia search, it is difficult to determine whether Saddam Hussein would hypothetically choose Saladin as an ally over Idris I. \n",
      "\n",
      "From the information provided, Saddam Hussein was the leader of Iraq from 1979 to 2003, and his actions were primarily focused on maintaining his own power and interests. Saladin, on the other hand, was a 12th-century Muslim leader who played a key role in the Third Crusade. Idris I was the founder of the Idrisid dynasty in Morocco, and he lived from 791 to 828.\n",
      "\n",
      "Given the vastly different contexts and times in which these individuals lived, it is difficult to make a direct comparison between them. However, if we were to assume that Saddam Hussein hypothetically chose an ally from the past, it is possible that he might choose someone who shared his own interests and goals.\n",
      "\n",
      "Therefore, I would answer this question with a **FALSE**.\n",
      "==============================================================  RUN 4  ==============================================================\n",
      "\n",
      "\n",
      "============================== Chat with  --- dwetzel/Llama-3-8B-Instruct_Orce_plus ---  LLM using vLLM ==============================\n",
      "\n",
      "\u001b[34m[ USER ]\u001b[0m\n",
      "###Question:\n",
      "Carol was playing a trivia game. In the first round she scored 17 points, in the second round she scored 6 points, and in the last round she lost 16 points. How many points did she have at the end of the game? \n",
      "\n",
      " ###Answer:\n",
      "\n",
      "\u001b[92m[ ASSISTANT ]\u001b[0m\n",
      "To find out how many points Carol had at the end of the game, we need to add the points she scored in the first and second rounds and then subtract the points she lost in the last round.\n",
      "\n",
      "Let's do the calculation:\n",
      "\n",
      "First round: 17 points\n",
      "Second round: 6 points\n",
      "Total points scored: 17 + 6 = 23 points\n",
      "\n",
      "Last round: Carol lost 16 points\n",
      "Total points at the end of the game: 23 - 16 = 7 points\n",
      "\n",
      "Therefore, Carol had 7 points at the end of the game.\n",
      "==============================================================  RUN 5  ==============================================================\n",
      "\n",
      "\n",
      "============================== Chat with  --- dwetzel/Llama-3-8B-Instruct_Orce_plus ---  LLM using vLLM ==============================\n",
      "\n",
      "\u001b[34m[ USER ]\u001b[0m\n",
      "###Question:\n",
      "Jennie makes quilts using two types of material: Cotton and Silk. She can make 13 quilts with 37 yards of cotton material and 9 quilts with 27 yards of silk material. Jennie has limited time and can only make a total of 25 quilts in the given time. How many yards of each material would be required to make the desired number of quilts while using up the material most efficiently? \n",
      "\n",
      " ###Answer:\n",
      "\n",
      "\u001b[92m[ ASSISTANT ]\u001b[0m\n",
      "Let's break this problem down step by step:\n",
      "\n",
      "1. We know that Jennie can make 13 quilts with 37 yards of cotton material. This means that the amount of cotton material required per quilt is:\n",
      "\n",
      "37 yards / 13 quilts = 2.85 yards of cotton material per quilt\n",
      "\n",
      "2. Similarly, we know that Jennie can make 9 quilts with 27 yards of silk material. This means that the amount of silk material required per quilt is:\n",
      "\n",
      "27 yards / 9 quilts = 3 yards of silk material per quilt\n",
      "\n",
      "3. Jennie wants to make a total of 25 quilts, and she has limited time to make them. To use up the material most efficiently, we need to calculate the total amount of material required to make 25 quilts, and then determine the most efficient way to allocate the material between cotton and silk.\n",
      "\n",
      "4. To calculate the total amount of material required, we multiply the amount of material required per quilt by the number of quilts:\n",
      "\n",
      "Total cotton material required = 2.85 yards/quilt * 25 quilts = 71.25 yards of cotton material\n",
      "Total silk material required = 3 yards/quilt * 25 quilts = 75 yards of silk material\n",
      "\n",
      "5. Now, we need to determine the most efficient way to allocate the material between cotton and silk. Since Jennie has limited time, we want to use up as much of the material as possible to minimize waste.\n",
      "\n",
      "6. Let's consider the scenario where Jennie uses all 71.25 yards of cotton material to make 25 quilts. In this case, she would have:\n",
      "\n",
      "71.25 yards / 2.85 yards/quilt = 25 quilts (using up all the cotton material)\n",
      "\n",
      "However, this would leave her with:\n",
      "\n",
      "75 yards (total silk material required) - 27 yards (required for 9 quilts) = 48 yards of silk material remaining\n",
      "\n",
      "Since Jennie has limited time, it's more efficient to use up the remaining silk material to make additional quilts. Let's calculate how many quilts she can make with the remaining silk material:\n",
      "\n",
      "48 yards / 3 yards/quilt = 16 additional quilts\n",
      "\n",
      "Adding these to the initial 9 quilts, Jennie can make a total of:\n",
      "\n",
      "9 quilts + 16 quilts = 25 quilts\n",
      "\n",
      "7. Therefore, the most efficient way to allocate the material is to use all 71.25 yards of cotton material to make 25 quilts, and use the remaining 48 yards of silk material to make 16 additional quilts. This way, Jennie can use up as much of the material as possible to minimize waste and meet her goal of making 25 quilts within the given time.\n"
     ]
    }
   ],
   "source": [
    "for idx, question in enumerate(questions):\n",
    "  completion = client.chat.completions.create(\n",
    "    model=model_name,\n",
    "    messages=question, \n",
    "    extra_body={\n",
    "        \"min_p\" : 0.05 # If it's set to 0.05, then it will allow tokens at least 1/20th as probable as the top token to be generated.\n",
    "    }\n",
    "  )\n",
    "  print(\"=\"*62 + f\"  RUN {idx+1}  \" + \"=\"*62 + \"\\n\\n\")\n",
    "\n",
    "  print_prompt(question, completion, with_system=False)"
   ]
  },
  {
   "cell_type": "markdown",
   "metadata": {},
   "source": [
    "# Streaming Responses"
   ]
  },
  {
   "cell_type": "code",
   "execution_count": 99,
   "metadata": {},
   "outputs": [],
   "source": [
    "def print_stream(prompt, stream, with_system=False):\n",
    "    print(\"=\"*30 + f\" Chat with  --- {model_name} ---  LLM using vLLM \" + \"=\"*30 + \"\\n\")\n",
    "    for idx, message in enumerate(prompt):\n",
    "        if prompt[idx]['role'] == 'user':\n",
    "            color = bcolors.CBLUE\n",
    "            print(color + f\"[ {prompt[idx]['role'].upper()} ]\" + bcolors.ENDC)\n",
    "            print(prompt[idx]['content']+ \"\\n\")\n",
    "        else: \n",
    "            if with_system:\n",
    "                color = bcolors.CVIOLET\n",
    "                print(color + f\"[ {prompt[idx]['role'].upper()} ]\" + bcolors.ENDC)\n",
    "                print(prompt[idx]['content']+ \"\\n\")\n",
    "\n",
    "    print(bcolors.OKGREEN + f\"[ ASSISTANT ]\" + bcolors.ENDC + \"\\n\")\n",
    "    for chunk in stream:\n",
    "        if chunk.choices[0].delta.content is not None:\n",
    "            print(chunk.choices[0].delta.content, end=\"\")"
   ]
  },
  {
   "cell_type": "code",
   "execution_count": 100,
   "metadata": {},
   "outputs": [
    {
     "name": "stdout",
     "output_type": "stream",
     "text": [
      "============================== Chat with  --- dwetzel/Llama-3-8B-Instruct_Orce_plus ---  LLM using vLLM ==============================\n",
      "\n",
      "\u001b[34m[ USER ]\u001b[0m\n",
      "###Question:\n",
      "Jennie makes quilts using two types of material: Cotton and Silk. She can make 13 quilts with 37 yards of cotton material and 9 quilts with 27 yards of silk material. Jennie has limited time and can only make a total of 25 quilts in the given time. How many yards of each material would be required to make the desired number of quilts while using up the material most efficiently? \n",
      "\n",
      " ###Answer:\n",
      "\n",
      "\u001b[92m[ ASSISTANT ]\u001b[0m\n",
      "\n",
      "Let's analyze the situation and"
     ]
    },
    {
     "name": "stdout",
     "output_type": "stream",
     "text": [
      " find the most efficient way for Jennie to make the desired number of quilts using the available time and material.\n",
      "\n",
      "First, let's calculate the total number of yards of cotton material needed to make 25 quilts:\n",
      "\n",
      "13 quilts/37 yards = 1 quilt/2.85 yards\n",
      "\n",
      "To make 25 quilts, Jennie would need:\n",
      "\n",
      "25 quilts x 2.85 yards/quilt = 71.25 yards of cotton material\n",
      "\n",
      "Next, let's calculate the total number of yards of silk material needed to make 25 quilts:\n",
      "\n",
      "9 quilts/27 yards = 1 quilt/3 yards\n",
      "\n",
      "To make 25 quilts, Jennie would need:\n",
      "\n",
      "25 quilts x 3 yards/quilt = 75 yards of silk material\n",
      "\n",
      "However, Jennie only has a limited time to make quilts, so she needs to use up the material most efficiently. Let's analyze the situation further:\n",
      "\n",
      "* If Jennie makes 25 quilts using the cotton material, she would have 37 - 71.25 = -34.25 yards of cotton material left over.\n",
      "* If Jennie makes 25 quilts using the silk material, she would have 27 - 75 = -48 yards of silk material left over.\n",
      "\n",
      "Since Jennie needs to use up the material most efficiently, she should make the most quilts using the material that leaves the least amount of waste. In this case, making quilts with the silk material would leave the least amount of waste, as she would have -48 yards of silk material left over, which is less than the -34.25 yards of cotton material left over.\n",
      "\n",
      "Therefore, Jennie should make 25 quilts using the silk material, which would require:\n",
      "\n",
      "25 quilts x 3 yards/quilt = 75 yards of silk material\n",
      "\n",
      "This would leave Jennie with no silk material left over and would allow her to use up the material most efficiently.\n",
      "\n",
      "In conclusion, Jennie should make 25 quilts using the silk material, which would require 75 yards of silk material."
     ]
    }
   ],
   "source": [
    "stream = client.chat.completions.create(\n",
    "    model=model_name,\n",
    "    messages=question,\n",
    "    stream=True, \n",
    "    extra_body={\n",
    "        \"min_p\" : 0.05 # If it's set to 0.05, then it will allow tokens at least 1/20th as probable as the top token to be generated.\n",
    "    }\n",
    ")\n",
    "print_stream(question , stream)"
   ]
  },
  {
   "cell_type": "code",
   "execution_count": null,
   "metadata": {},
   "outputs": [],
   "source": []
  }
 ],
 "metadata": {
  "kernelspec": {
   "display_name": "pytorch",
   "language": "python",
   "name": "python3"
  },
  "language_info": {
   "codemirror_mode": {
    "name": "ipython",
    "version": 3
   },
   "file_extension": ".py",
   "mimetype": "text/x-python",
   "name": "python",
   "nbconvert_exporter": "python",
   "pygments_lexer": "ipython3",
   "version": "3.11.9"
  }
 },
 "nbformat": 4,
 "nbformat_minor": 2
}
